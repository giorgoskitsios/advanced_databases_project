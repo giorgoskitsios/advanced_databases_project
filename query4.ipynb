{
 "cells": [
  {
   "cell_type": "code",
   "execution_count": 11,
   "id": "d125fd58-4d23-4948-8781-450200e6a642",
   "metadata": {
    "tags": []
   },
   "outputs": [
    {
     "name": "stdout",
     "output_type": "stream",
     "text": [
      "Starting Spark application\n"
     ]
    },
    {
     "data": {
      "text/html": [
       "<table>\n",
       "<tr><th>ID</th><th>YARN Application ID</th><th>Kind</th><th>State</th><th>Spark UI</th><th>Driver log</th><th>User</th><th>Current session?</th></tr><tr><td>1629</td><td>application_1732639283265_1590</td><td>pyspark</td><td>idle</td><td><a target=\"_blank\" href=\"http://ip-192-168-1-36.eu-central-1.compute.internal:20888/proxy/application_1732639283265_1590/\">Link</a></td><td><a target=\"_blank\" href=\"http://ip-192-168-1-112.eu-central-1.compute.internal:8042/node/containerlogs/container_1732639283265_1590_01_000001/livy\">Link</a></td><td>None</td><td>✔</td></tr></table>"
      ],
      "text/plain": [
       "<IPython.core.display.HTML object>"
      ]
     },
     "metadata": {},
     "output_type": "display_data"
    },
    {
     "data": {
      "application/vnd.jupyter.widget-view+json": {
       "model_id": "",
       "version_major": 2,
       "version_minor": 0
      },
      "text/plain": [
       "FloatProgress(value=0.0, bar_style='info', description='Progress:', layout=Layout(height='25px', width='50%'),…"
      ]
     },
     "metadata": {},
     "output_type": "display_data"
    },
    {
     "name": "stdout",
     "output_type": "stream",
     "text": [
      "SparkSession available as 'spark'.\n"
     ]
    },
    {
     "data": {
      "text/html": [
       "Current session configs: <tt>{'conf': {'spark.sql.catalog.spark_catalog.type': 'hive', 'spark.executor.instances': '2', 'spark.executor.memory': '2g', 'spark.executor.cores': '1', 'spark.driver.memory': '2g'}, 'kind': 'pyspark'}</tt><br>"
      ],
      "text/plain": [
       "<IPython.core.display.HTML object>"
      ]
     },
     "metadata": {},
     "output_type": "display_data"
    },
    {
     "data": {
      "text/html": [
       "<table>\n",
       "<tr><th>ID</th><th>YARN Application ID</th><th>Kind</th><th>State</th><th>Spark UI</th><th>Driver log</th><th>User</th><th>Current session?</th></tr><tr><td>1562</td><td>application_1732639283265_1523</td><td>pyspark</td><td>idle</td><td><a target=\"_blank\" href=\"http://ip-192-168-1-36.eu-central-1.compute.internal:20888/proxy/application_1732639283265_1523/\">Link</a></td><td><a target=\"_blank\" href=\"http://ip-192-168-1-174.eu-central-1.compute.internal:8042/node/containerlogs/container_1732639283265_1523_01_000001/livy\">Link</a></td><td>None</td><td></td></tr><tr><td>1608</td><td>application_1732639283265_1569</td><td>pyspark</td><td>idle</td><td><a target=\"_blank\" href=\"http://ip-192-168-1-36.eu-central-1.compute.internal:20888/proxy/application_1732639283265_1569/\">Link</a></td><td><a target=\"_blank\" href=\"http://ip-192-168-1-119.eu-central-1.compute.internal:8042/node/containerlogs/container_1732639283265_1569_01_000001/livy\">Link</a></td><td>None</td><td></td></tr><tr><td>1622</td><td>application_1732639283265_1583</td><td>pyspark</td><td>idle</td><td><a target=\"_blank\" href=\"http://ip-192-168-1-36.eu-central-1.compute.internal:20888/proxy/application_1732639283265_1583/\">Link</a></td><td><a target=\"_blank\" href=\"http://ip-192-168-1-174.eu-central-1.compute.internal:8042/node/containerlogs/container_1732639283265_1583_01_000001/livy\">Link</a></td><td>None</td><td></td></tr><tr><td>1623</td><td>application_1732639283265_1584</td><td>pyspark</td><td>idle</td><td><a target=\"_blank\" href=\"http://ip-192-168-1-36.eu-central-1.compute.internal:20888/proxy/application_1732639283265_1584/\">Link</a></td><td><a target=\"_blank\" href=\"http://ip-192-168-1-181.eu-central-1.compute.internal:8042/node/containerlogs/container_1732639283265_1584_01_000001/livy\">Link</a></td><td>None</td><td></td></tr><tr><td>1624</td><td>application_1732639283265_1585</td><td>pyspark</td><td>idle</td><td><a target=\"_blank\" href=\"http://ip-192-168-1-36.eu-central-1.compute.internal:20888/proxy/application_1732639283265_1585/\">Link</a></td><td><a target=\"_blank\" href=\"http://ip-192-168-1-16.eu-central-1.compute.internal:8042/node/containerlogs/container_1732639283265_1585_01_000001/livy\">Link</a></td><td>None</td><td></td></tr><tr><td>1626</td><td>application_1732639283265_1587</td><td>pyspark</td><td>idle</td><td><a target=\"_blank\" href=\"http://ip-192-168-1-36.eu-central-1.compute.internal:20888/proxy/application_1732639283265_1587/\">Link</a></td><td><a target=\"_blank\" href=\"http://ip-192-168-1-227.eu-central-1.compute.internal:8042/node/containerlogs/container_1732639283265_1587_01_000001/livy\">Link</a></td><td>None</td><td></td></tr><tr><td>1628</td><td>application_1732639283265_1589</td><td>pyspark</td><td>idle</td><td><a target=\"_blank\" href=\"http://ip-192-168-1-36.eu-central-1.compute.internal:20888/proxy/application_1732639283265_1589/\">Link</a></td><td><a target=\"_blank\" href=\"http://ip-192-168-1-247.eu-central-1.compute.internal:8042/node/containerlogs/container_1732639283265_1589_01_000001/livy\">Link</a></td><td>None</td><td></td></tr><tr><td>1629</td><td>application_1732639283265_1590</td><td>pyspark</td><td>idle</td><td><a target=\"_blank\" href=\"http://ip-192-168-1-36.eu-central-1.compute.internal:20888/proxy/application_1732639283265_1590/\">Link</a></td><td><a target=\"_blank\" href=\"http://ip-192-168-1-112.eu-central-1.compute.internal:8042/node/containerlogs/container_1732639283265_1590_01_000001/livy\">Link</a></td><td>None</td><td>✔</td></tr></table>"
      ],
      "text/plain": [
       "<IPython.core.display.HTML object>"
      ]
     },
     "metadata": {},
     "output_type": "display_data"
    }
   ],
   "source": [
    "%%configure -f\n",
    "{\n",
    "    \"conf\": {\n",
    "        \"spark.executor.instances\": \"2\",\n",
    "        \"spark.executor.memory\": \"2g\",\n",
    "        \"spark.executor.cores\": \"1\",\n",
    "        \"spark.driver.memory\": \"2g\"\n",
    "    }\n",
    "}"
   ]
  },
  {
   "cell_type": "code",
   "execution_count": 12,
   "id": "8f75cd94-0090-4b87-80c1-c48141aa8bd9",
   "metadata": {
    "tags": []
   },
   "outputs": [
    {
     "data": {
      "application/vnd.jupyter.widget-view+json": {
       "model_id": "",
       "version_major": 2,
       "version_minor": 0
      },
      "text/plain": [
       "FloatProgress(value=0.0, bar_style='info', description='Progress:', layout=Layout(height='25px', width='50%'),…"
      ]
     },
     "metadata": {},
     "output_type": "display_data"
    },
    {
     "name": "stdout",
     "output_type": "stream",
     "text": [
      "Executor Instances: 2\n",
      "Executor Memory: 2g\n",
      "Executor Cores: 1"
     ]
    }
   ],
   "source": [
    "# Access configuration\n",
    "conf = spark.sparkContext.getConf()\n",
    "\n",
    "# Print relevant executor settings\n",
    "print(\"Executor Instances:\", conf.get(\"spark.executor.instances\"))\n",
    "print(\"Executor Memory:\", conf.get(\"spark.executor.memory\"))\n",
    "print(\"Executor Cores:\", conf.get(\"spark.executor.cores\"))"
   ]
  },
  {
   "cell_type": "code",
   "execution_count": 2,
   "id": "6ab70a67-b6a7-4426-bee8-f4b2373174ff",
   "metadata": {
    "tags": []
   },
   "outputs": [
    {
     "name": "stdout",
     "output_type": "stream",
     "text": [
      "Starting Spark application\n"
     ]
    },
    {
     "data": {
      "text/html": [
       "<table>\n",
       "<tr><th>ID</th><th>YARN Application ID</th><th>Kind</th><th>State</th><th>Spark UI</th><th>Driver log</th><th>User</th><th>Current session?</th></tr><tr><td>1449</td><td>application_1732639283265_1410</td><td>pyspark</td><td>idle</td><td><a target=\"_blank\" href=\"http://ip-192-168-1-36.eu-central-1.compute.internal:20888/proxy/application_1732639283265_1410/\">Link</a></td><td><a target=\"_blank\" href=\"http://ip-192-168-1-119.eu-central-1.compute.internal:8042/node/containerlogs/container_1732639283265_1410_01_000001/livy\">Link</a></td><td>None</td><td>✔</td></tr></table>"
      ],
      "text/plain": [
       "<IPython.core.display.HTML object>"
      ]
     },
     "metadata": {},
     "output_type": "display_data"
    },
    {
     "data": {
      "application/vnd.jupyter.widget-view+json": {
       "model_id": "",
       "version_major": 2,
       "version_minor": 0
      },
      "text/plain": [
       "FloatProgress(value=0.0, bar_style='info', description='Progress:', layout=Layout(height='25px', width='50%'),…"
      ]
     },
     "metadata": {},
     "output_type": "display_data"
    },
    {
     "name": "stdout",
     "output_type": "stream",
     "text": [
      "SparkSession available as 'spark'.\n"
     ]
    },
    {
     "data": {
      "text/html": [
       "Current session configs: <tt>{'conf': {'spark.sql.catalog.spark_catalog.type': 'hive', 'spark.executor.instances': '2', 'spark.executor.memory': '2g', 'spark.executor.cores': '1', 'spark.driver.memory': '2g'}, 'kind': 'pyspark'}</tt><br>"
      ],
      "text/plain": [
       "<IPython.core.display.HTML object>"
      ]
     },
     "metadata": {},
     "output_type": "display_data"
    },
    {
     "data": {
      "text/html": [
       "<table>\n",
       "<tr><th>ID</th><th>YARN Application ID</th><th>Kind</th><th>State</th><th>Spark UI</th><th>Driver log</th><th>User</th><th>Current session?</th></tr><tr><td>1330</td><td>application_1732639283265_1292</td><td>pyspark</td><td>idle</td><td><a target=\"_blank\" href=\"http://ip-192-168-1-36.eu-central-1.compute.internal:20888/proxy/application_1732639283265_1292/\">Link</a></td><td><a target=\"_blank\" href=\"http://ip-192-168-1-203.eu-central-1.compute.internal:8042/node/containerlogs/container_1732639283265_1292_01_000001/livy\">Link</a></td><td>None</td><td></td></tr><tr><td>1331</td><td>application_1732639283265_1293</td><td>pyspark</td><td>idle</td><td><a target=\"_blank\" href=\"http://ip-192-168-1-36.eu-central-1.compute.internal:20888/proxy/application_1732639283265_1293/\">Link</a></td><td><a target=\"_blank\" href=\"http://ip-192-168-1-203.eu-central-1.compute.internal:8042/node/containerlogs/container_1732639283265_1293_01_000001/livy\">Link</a></td><td>None</td><td></td></tr><tr><td>1348</td><td>application_1732639283265_1310</td><td>pyspark</td><td>idle</td><td><a target=\"_blank\" href=\"http://ip-192-168-1-36.eu-central-1.compute.internal:20888/proxy/application_1732639283265_1310/\">Link</a></td><td><a target=\"_blank\" href=\"http://ip-192-168-1-80.eu-central-1.compute.internal:8042/node/containerlogs/container_1732639283265_1310_01_000002/livy\">Link</a></td><td>None</td><td></td></tr><tr><td>1390</td><td>application_1732639283265_1352</td><td>pyspark</td><td>idle</td><td><a target=\"_blank\" href=\"http://ip-192-168-1-36.eu-central-1.compute.internal:20888/proxy/application_1732639283265_1352/\">Link</a></td><td><a target=\"_blank\" href=\"http://ip-192-168-1-203.eu-central-1.compute.internal:8042/node/containerlogs/container_1732639283265_1352_01_000001/livy\">Link</a></td><td>None</td><td></td></tr><tr><td>1403</td><td>application_1732639283265_1365</td><td>pyspark</td><td>idle</td><td><a target=\"_blank\" href=\"http://ip-192-168-1-36.eu-central-1.compute.internal:20888/proxy/application_1732639283265_1365/\">Link</a></td><td><a target=\"_blank\" href=\"http://ip-192-168-1-181.eu-central-1.compute.internal:8042/node/containerlogs/container_1732639283265_1365_01_000002/livy\">Link</a></td><td>None</td><td></td></tr><tr><td>1404</td><td>application_1732639283265_1366</td><td>pyspark</td><td>idle</td><td><a target=\"_blank\" href=\"http://ip-192-168-1-36.eu-central-1.compute.internal:20888/proxy/application_1732639283265_1366/\">Link</a></td><td><a target=\"_blank\" href=\"http://ip-192-168-1-227.eu-central-1.compute.internal:8042/node/containerlogs/container_1732639283265_1366_01_000001/livy\">Link</a></td><td>None</td><td></td></tr><tr><td>1407</td><td>application_1732639283265_1369</td><td>pyspark</td><td>idle</td><td><a target=\"_blank\" href=\"http://ip-192-168-1-36.eu-central-1.compute.internal:20888/proxy/application_1732639283265_1369/\">Link</a></td><td><a target=\"_blank\" href=\"http://ip-192-168-1-227.eu-central-1.compute.internal:8042/node/containerlogs/container_1732639283265_1369_01_000001/livy\">Link</a></td><td>None</td><td></td></tr><tr><td>1410</td><td>application_1732639283265_1372</td><td>pyspark</td><td>idle</td><td><a target=\"_blank\" href=\"http://ip-192-168-1-36.eu-central-1.compute.internal:20888/proxy/application_1732639283265_1372/\">Link</a></td><td><a target=\"_blank\" href=\"http://ip-192-168-1-94.eu-central-1.compute.internal:8042/node/containerlogs/container_1732639283265_1372_01_000001/livy\">Link</a></td><td>None</td><td></td></tr><tr><td>1412</td><td>application_1732639283265_1374</td><td>pyspark</td><td>idle</td><td><a target=\"_blank\" href=\"http://ip-192-168-1-36.eu-central-1.compute.internal:20888/proxy/application_1732639283265_1374/\">Link</a></td><td><a target=\"_blank\" href=\"http://ip-192-168-1-119.eu-central-1.compute.internal:8042/node/containerlogs/container_1732639283265_1374_01_000001/livy\">Link</a></td><td>None</td><td></td></tr><tr><td>1413</td><td>application_1732639283265_1375</td><td>pyspark</td><td>idle</td><td><a target=\"_blank\" href=\"http://ip-192-168-1-36.eu-central-1.compute.internal:20888/proxy/application_1732639283265_1375/\">Link</a></td><td><a target=\"_blank\" href=\"http://ip-192-168-1-166.eu-central-1.compute.internal:8042/node/containerlogs/container_1732639283265_1375_01_000001/livy\">Link</a></td><td>None</td><td></td></tr><tr><td>1415</td><td>application_1732639283265_1377</td><td>pyspark</td><td>idle</td><td><a target=\"_blank\" href=\"http://ip-192-168-1-36.eu-central-1.compute.internal:20888/proxy/application_1732639283265_1377/\">Link</a></td><td><a target=\"_blank\" href=\"http://ip-192-168-1-247.eu-central-1.compute.internal:8042/node/containerlogs/container_1732639283265_1377_01_000001/livy\">Link</a></td><td>None</td><td></td></tr><tr><td>1416</td><td>application_1732639283265_1378</td><td>pyspark</td><td>idle</td><td><a target=\"_blank\" href=\"http://ip-192-168-1-36.eu-central-1.compute.internal:20888/proxy/application_1732639283265_1378/\">Link</a></td><td><a target=\"_blank\" href=\"http://ip-192-168-1-119.eu-central-1.compute.internal:8042/node/containerlogs/container_1732639283265_1378_01_000002/livy\">Link</a></td><td>None</td><td></td></tr><tr><td>1417</td><td>application_1732639283265_1379</td><td>pyspark</td><td>idle</td><td><a target=\"_blank\" href=\"http://ip-192-168-1-36.eu-central-1.compute.internal:20888/proxy/application_1732639283265_1379/\">Link</a></td><td><a target=\"_blank\" href=\"http://ip-192-168-1-247.eu-central-1.compute.internal:8042/node/containerlogs/container_1732639283265_1379_01_000001/livy\">Link</a></td><td>None</td><td></td></tr><tr><td>1419</td><td>application_1732639283265_1381</td><td>pyspark</td><td>idle</td><td><a target=\"_blank\" href=\"http://ip-192-168-1-36.eu-central-1.compute.internal:20888/proxy/application_1732639283265_1381/\">Link</a></td><td><a target=\"_blank\" href=\"http://ip-192-168-1-247.eu-central-1.compute.internal:8042/node/containerlogs/container_1732639283265_1381_01_000002/livy\">Link</a></td><td>None</td><td></td></tr><tr><td>1422</td><td>application_1732639283265_1383</td><td>pyspark</td><td>idle</td><td><a target=\"_blank\" href=\"http://ip-192-168-1-36.eu-central-1.compute.internal:20888/proxy/application_1732639283265_1383/\">Link</a></td><td><a target=\"_blank\" href=\"http://ip-192-168-1-233.eu-central-1.compute.internal:8042/node/containerlogs/container_1732639283265_1383_01_000001/livy\">Link</a></td><td>None</td><td></td></tr><tr><td>1424</td><td>application_1732639283265_1385</td><td>pyspark</td><td>idle</td><td><a target=\"_blank\" href=\"http://ip-192-168-1-36.eu-central-1.compute.internal:20888/proxy/application_1732639283265_1385/\">Link</a></td><td><a target=\"_blank\" href=\"http://ip-192-168-1-117.eu-central-1.compute.internal:8042/node/containerlogs/container_1732639283265_1385_01_000001/livy\">Link</a></td><td>None</td><td></td></tr><tr><td>1425</td><td>application_1732639283265_1386</td><td>pyspark</td><td>idle</td><td><a target=\"_blank\" href=\"http://ip-192-168-1-36.eu-central-1.compute.internal:20888/proxy/application_1732639283265_1386/\">Link</a></td><td><a target=\"_blank\" href=\"http://ip-192-168-1-227.eu-central-1.compute.internal:8042/node/containerlogs/container_1732639283265_1386_01_000002/livy\">Link</a></td><td>None</td><td></td></tr><tr><td>1431</td><td>application_1732639283265_1392</td><td>pyspark</td><td>idle</td><td><a target=\"_blank\" href=\"http://ip-192-168-1-36.eu-central-1.compute.internal:20888/proxy/application_1732639283265_1392/\">Link</a></td><td><a target=\"_blank\" href=\"http://ip-192-168-1-227.eu-central-1.compute.internal:8042/node/containerlogs/container_1732639283265_1392_01_000001/livy\">Link</a></td><td>None</td><td></td></tr><tr><td>1433</td><td>application_1732639283265_1394</td><td>pyspark</td><td>idle</td><td><a target=\"_blank\" href=\"http://ip-192-168-1-36.eu-central-1.compute.internal:20888/proxy/application_1732639283265_1394/\">Link</a></td><td><a target=\"_blank\" href=\"http://ip-192-168-1-16.eu-central-1.compute.internal:8042/node/containerlogs/container_1732639283265_1394_01_000001/livy\">Link</a></td><td>None</td><td></td></tr><tr><td>1449</td><td>application_1732639283265_1410</td><td>pyspark</td><td>idle</td><td><a target=\"_blank\" href=\"http://ip-192-168-1-36.eu-central-1.compute.internal:20888/proxy/application_1732639283265_1410/\">Link</a></td><td><a target=\"_blank\" href=\"http://ip-192-168-1-119.eu-central-1.compute.internal:8042/node/containerlogs/container_1732639283265_1410_01_000001/livy\">Link</a></td><td>None</td><td>✔</td></tr></table>"
      ],
      "text/plain": [
       "<IPython.core.display.HTML object>"
      ]
     },
     "metadata": {},
     "output_type": "display_data"
    }
   ],
   "source": [
    "# %%configure -f\n",
    "# {\n",
    "#     \"conf\": {\n",
    "#         \"spark.executor.instances\": \"2\",\n",
    "#         \"spark.executor.memory\": \"2g\",\n",
    "#         \"spark.executor.cores\": \"1\",\n",
    "#         \"spark.driver.memory\": \"2g\"\n",
    "#     }\n",
    "# }"
   ]
  },
  {
   "cell_type": "code",
   "execution_count": 3,
   "id": "805d0619-d92d-4f5c-b21e-bcee88a70af7",
   "metadata": {
    "tags": []
   },
   "outputs": [
    {
     "data": {
      "application/vnd.jupyter.widget-view+json": {
       "model_id": "",
       "version_major": 2,
       "version_minor": 0
      },
      "text/plain": [
       "FloatProgress(value=0.0, bar_style='info', description='Progress:', layout=Layout(height='25px', width='50%'),…"
      ]
     },
     "metadata": {},
     "output_type": "display_data"
    },
    {
     "name": "stdout",
     "output_type": "stream",
     "text": [
      "Racial Profile for the Top 3 Highest Income Areas:\n",
      "+--------------------+---+\n",
      "|      Victim Descent|  #|\n",
      "+--------------------+---+\n",
      "|               White|645|\n",
      "|               Other|123|\n",
      "|Hispanic/Latin/Me...| 71|\n",
      "|             Unknown| 48|\n",
      "|               Black| 38|\n",
      "|         Other Asian| 24|\n",
      "|             Chinese|  1|\n",
      "|American Indian/A...|  1|\n",
      "+--------------------+---+\n",
      "\n",
      "Racial Profile for the Top 3 Lowest Income Areas:\n",
      "+--------------------+---+\n",
      "|      Victim Descent|  #|\n",
      "+--------------------+---+\n",
      "|Hispanic/Latin/Me...|799|\n",
      "|               Black|329|\n",
      "|               White|284|\n",
      "|               Other|187|\n",
      "|         Other Asian| 37|\n",
      "|             Unknown|  9|\n",
      "|              Korean|  4|\n",
      "|American Indian/A...|  1|\n",
      "|    Pacific Islander|  1|\n",
      "+--------------------+---+\n",
      "\n",
      "Execution Time: 156.42 seconds"
     ]
    }
   ],
   "source": [
    "import time\n",
    "from pyspark.sql import SparkSession\n",
    "from pyspark.sql.functions import col, regexp_replace, to_timestamp, year\n",
    "from pyspark.sql.types import IntegerType\n",
    "from sedona.register import SedonaRegistrator\n",
    "from sedona.spark import *\n",
    "\n",
    "\n",
    "\n",
    "# Start the timer\n",
    "start_time = time.time()\n",
    "\n",
    "sedona = SedonaContext.create(spark)\n",
    "# Read the file from s3\n",
    "geojson_path = \"s3://initial-notebook-data-bucket-dblab-905418150721/2010_Census_Blocks.geojson\"\n",
    "blocks_df = sedona.read.format(\"geojson\") \\\n",
    "            .option(\"multiLine\", \"true\").load(geojson_path) \\\n",
    "            .selectExpr(\"explode(features) as features\") \\\n",
    "            .select(\"features.*\")\n",
    "# Formatting magic\n",
    "flattened_df = blocks_df.select( \\\n",
    "                [col(f\"properties.{col_name}\").alias(col_name) for col_name in \\\n",
    "                blocks_df.schema[\"properties\"].dataType.fieldNames()] + [\"geometry\"]) \\\n",
    "            .drop(\"properties\") \\\n",
    "            .drop(\"type\")\n",
    "\n",
    "\n",
    "# Load Crime Data\n",
    "crime_df = spark.read.csv(\n",
    "    \"s3://initial-notebook-data-bucket-dblab-905418150721/CrimeData/Crime_Data_from_2010_to_2019_20241101.csv\",\n",
    "    header=True,\n",
    "    inferSchema=True\n",
    ")\n",
    "\n",
    "# Transform (LAT, LON) into a geometry column\n",
    "crime_df = crime_df.withColumn(\"geom\", ST_Point(\"LON\", \"LAT\"))\n",
    "\n",
    "\n",
    "# Read Median Income Data\n",
    "income_df = spark.read.csv(\n",
    "    \"s3://initial-notebook-data-bucket-dblab-905418150721/LA_income_2015.csv\",\n",
    "    header=True,\n",
    "    inferSchema=True\n",
    ")\n",
    "income_df = income_df.withColumn(\n",
    "    \"Median Income\",\n",
    "    regexp_replace(col(\"Estimated Median Income\"), \"[$,]\", \"\").cast(IntegerType())\n",
    ")\n",
    "income_df = income_df.withColumnRenamed(\"Zip Code\", \"ZIP Code\")\n",
    "\n",
    "# First Join: Join Census Data with Median Income using ZIP Code and ZCTA10\n",
    "census_income_df = flattened_df.join(\n",
    "    income_df,\n",
    "    flattened_df[\"ZCTA10\"] == income_df[\"ZIP Code\"],\n",
    "    \"inner\"\n",
    ").select(\n",
    "    \"ZCTA10\", \"geometry\", \"Community\", \"Median Income\"\n",
    ")\n",
    "\n",
    "# Read Race and Ethnicity Mapping Data from CSV\n",
    "race_ethnicity_df = spark.read.csv(\n",
    "    \"s3://initial-notebook-data-bucket-dblab-905418150721/RE_codes.csv\",\n",
    "    header=True,\n",
    "    inferSchema=True\n",
    ")\n",
    "\n",
    "# Second Join: Join Census-Income Data with Crime Data using Geometry Columns\n",
    "final_joined_df = census_income_df.join(\n",
    "    crime_df,\n",
    "    ST_Within(crime_df.geom, census_income_df.geometry),\n",
    "    \"inner\"\n",
    ").select(\n",
    "    col(\"DATE OCC\").alias(\"Date\"),\n",
    "    \"Median Income\",\n",
    "    \"Community\",\n",
    "    col(\"Vict Descent\").alias(\"Victim Descent\")\n",
    ")\n",
    "\n",
    "# Step 1: Convert 'DATE OCC' from string to TimestampType (with date and time)\n",
    "final_joined_df = final_joined_df.withColumn(\n",
    "    \"DateParsed\",\n",
    "    to_timestamp(col(\"Date\"), \"MM/dd/yyyy hh:mm:ss a\")  # Adjusting for MM/dd/yyyy hh:mm:ss a format\n",
    ")\n",
    "\n",
    "# Step 2: Filter for crimes that happened in 2015\n",
    "final_joined_2015_df = final_joined_df.filter(year(col(\"DateParsed\")) == 2015)\n",
    "\n",
    "\n",
    "# Step 3: Join with Race and Ethnicity Mapping\n",
    "final_with_race_df = final_joined_2015_df.join(\n",
    "    race_ethnicity_df,\n",
    "    final_joined_2015_df[\"Victim Descent\"] == race_ethnicity_df[\"Vict Descent\"],\n",
    "    \"inner\"\n",
    ").drop(race_ethnicity_df[\"Vict Descent\"])\n",
    "\n",
    "# Rename the 'Community' column in both DataFrames to avoid ambiguity\n",
    "final_with_race_df = final_with_race_df.withColumnRenamed(\"Community\", \"Community_final\")\n",
    "census_income_df = census_income_df.withColumnRenamed(\"Community\", \"Community_census\")\n",
    "\n",
    "# Step 4: Calculate the top 3 highest and lowest income areas\n",
    "income_ranking_df = census_income_df.groupBy(\"Community_census\").agg({\"Median Income\": \"avg\"}).withColumnRenamed(\"avg(Median Income)\", \"Average Income\")\n",
    "\n",
    "top_3_highest_income = income_ranking_df.orderBy(col(\"Average Income\").desc()).limit(3)\n",
    "top_3_lowest_income = income_ranking_df.orderBy(col(\"Average Income\").asc()).limit(3)\n",
    "\n",
    "# Filter final_with_race_df for the top 3 highest and lowest income areas\n",
    "high_income_df = final_with_race_df.join(\n",
    "    top_3_highest_income,\n",
    "    final_with_race_df[\"Community_final\"] == top_3_highest_income[\"Community_census\"]\n",
    ")\n",
    "\n",
    "low_income_df = final_with_race_df.join(\n",
    "    top_3_lowest_income,\n",
    "    final_with_race_df[\"Community_final\"] == top_3_lowest_income[\"Community_census\"]\n",
    ")\n",
    "\n",
    "# Step 5: Calculate the racial profile for the top 3 highest income areas\n",
    "high_income_race_profile_df = high_income_df.groupBy(\"Vict Descent Full\").count().orderBy(\"count\", ascending=False)\n",
    "\n",
    "# Step 6: Calculate the racial profile for the top 3 lowest income areas\n",
    "low_income_race_profile_df = low_income_df.groupBy(\"Vict Descent Full\").count().orderBy(\"count\", ascending=False)\n",
    "\n",
    "# Step 7: Prepare results for the top 3 highest income areas\n",
    "print(\"Racial Profile for the Top 3 Highest Income Areas:\")\n",
    "high_income_race_profile_df = high_income_race_profile_df.withColumnRenamed(\"Vict Descent Full\", \"Victim Descent\") \\\n",
    "                                                         .withColumnRenamed(\"count\", \"#\")\n",
    "high_income_race_profile_df.show()\n",
    "\n",
    "# Step 8: Prepare results for the top 3 lowest income areas\n",
    "print(\"Racial Profile for the Top 3 Lowest Income Areas:\")\n",
    "low_income_race_profile_df = low_income_race_profile_df.withColumnRenamed(\"Vict Descent Full\", \"Victim Descent\") \\\n",
    "                                                       .withColumnRenamed(\"count\", \"#\")\n",
    "low_income_race_profile_df.show()\n",
    "\n",
    "# End the timer\n",
    "end_time = time.time()\n",
    "\n",
    "# Print the execution time\n",
    "execution_time = end_time - start_time\n",
    "print(f\"Execution Time: {execution_time:.2f} seconds\")\n",
    "spark.stop()"
   ]
  },
  {
   "cell_type": "code",
   "execution_count": 4,
   "id": "8f23f929-1715-4bcd-9127-3b78fec1ecf4",
   "metadata": {
    "tags": []
   },
   "outputs": [
    {
     "data": {
      "application/vnd.jupyter.widget-view+json": {
       "model_id": "",
       "version_major": 2,
       "version_minor": 0
      },
      "text/plain": [
       "FloatProgress(value=0.0, bar_style='info', description='Progress:', layout=Layout(height='25px', width='50%'),…"
      ]
     },
     "metadata": {},
     "output_type": "display_data"
    },
    {
     "name": "stdout",
     "output_type": "stream",
     "text": [
      "Executor Instances: 2\n",
      "Executor Memory: 2g\n",
      "Executor Cores: 1"
     ]
    }
   ],
   "source": [
    "# Access configuration\n",
    "conf = spark.sparkContext.getConf()\n",
    "\n",
    "# Print relevant executor settings\n",
    "print(\"Executor Instances:\", conf.get(\"spark.executor.instances\"))\n",
    "print(\"Executor Memory:\", conf.get(\"spark.executor.memory\"))\n",
    "print(\"Executor Cores:\", conf.get(\"spark.executor.cores\"))"
   ]
  },
  {
   "cell_type": "code",
   "execution_count": 5,
   "id": "21e4d313-0b23-435c-8008-fda669a57012",
   "metadata": {
    "tags": []
   },
   "outputs": [
    {
     "name": "stdout",
     "output_type": "stream",
     "text": [
      "Starting Spark application\n"
     ]
    },
    {
     "data": {
      "text/html": [
       "<table>\n",
       "<tr><th>ID</th><th>YARN Application ID</th><th>Kind</th><th>State</th><th>Spark UI</th><th>Driver log</th><th>User</th><th>Current session?</th></tr><tr><td>1450</td><td>application_1732639283265_1411</td><td>pyspark</td><td>idle</td><td><a target=\"_blank\" href=\"http://ip-192-168-1-36.eu-central-1.compute.internal:20888/proxy/application_1732639283265_1411/\">Link</a></td><td><a target=\"_blank\" href=\"http://ip-192-168-1-91.eu-central-1.compute.internal:8042/node/containerlogs/container_1732639283265_1411_01_000001/livy\">Link</a></td><td>None</td><td>✔</td></tr></table>"
      ],
      "text/plain": [
       "<IPython.core.display.HTML object>"
      ]
     },
     "metadata": {},
     "output_type": "display_data"
    },
    {
     "data": {
      "application/vnd.jupyter.widget-view+json": {
       "model_id": "",
       "version_major": 2,
       "version_minor": 0
      },
      "text/plain": [
       "FloatProgress(value=0.0, bar_style='info', description='Progress:', layout=Layout(height='25px', width='50%'),…"
      ]
     },
     "metadata": {},
     "output_type": "display_data"
    },
    {
     "name": "stdout",
     "output_type": "stream",
     "text": [
      "SparkSession available as 'spark'.\n"
     ]
    },
    {
     "data": {
      "text/html": [
       "Current session configs: <tt>{'conf': {'spark.sql.catalog.spark_catalog.type': 'hive', 'spark.executor.instances': '2', 'spark.executor.memory': '4g', 'spark.executor.cores': '2', 'spark.driver.memory': '4g'}, 'kind': 'pyspark'}</tt><br>"
      ],
      "text/plain": [
       "<IPython.core.display.HTML object>"
      ]
     },
     "metadata": {},
     "output_type": "display_data"
    },
    {
     "data": {
      "text/html": [
       "<table>\n",
       "<tr><th>ID</th><th>YARN Application ID</th><th>Kind</th><th>State</th><th>Spark UI</th><th>Driver log</th><th>User</th><th>Current session?</th></tr><tr><td>1330</td><td>application_1732639283265_1292</td><td>pyspark</td><td>idle</td><td><a target=\"_blank\" href=\"http://ip-192-168-1-36.eu-central-1.compute.internal:20888/proxy/application_1732639283265_1292/\">Link</a></td><td><a target=\"_blank\" href=\"http://ip-192-168-1-203.eu-central-1.compute.internal:8042/node/containerlogs/container_1732639283265_1292_01_000001/livy\">Link</a></td><td>None</td><td></td></tr><tr><td>1331</td><td>application_1732639283265_1293</td><td>pyspark</td><td>idle</td><td><a target=\"_blank\" href=\"http://ip-192-168-1-36.eu-central-1.compute.internal:20888/proxy/application_1732639283265_1293/\">Link</a></td><td><a target=\"_blank\" href=\"http://ip-192-168-1-203.eu-central-1.compute.internal:8042/node/containerlogs/container_1732639283265_1293_01_000001/livy\">Link</a></td><td>None</td><td></td></tr><tr><td>1348</td><td>application_1732639283265_1310</td><td>pyspark</td><td>idle</td><td><a target=\"_blank\" href=\"http://ip-192-168-1-36.eu-central-1.compute.internal:20888/proxy/application_1732639283265_1310/\">Link</a></td><td><a target=\"_blank\" href=\"http://ip-192-168-1-80.eu-central-1.compute.internal:8042/node/containerlogs/container_1732639283265_1310_01_000002/livy\">Link</a></td><td>None</td><td></td></tr><tr><td>1390</td><td>application_1732639283265_1352</td><td>pyspark</td><td>idle</td><td><a target=\"_blank\" href=\"http://ip-192-168-1-36.eu-central-1.compute.internal:20888/proxy/application_1732639283265_1352/\">Link</a></td><td><a target=\"_blank\" href=\"http://ip-192-168-1-203.eu-central-1.compute.internal:8042/node/containerlogs/container_1732639283265_1352_01_000001/livy\">Link</a></td><td>None</td><td></td></tr><tr><td>1403</td><td>application_1732639283265_1365</td><td>pyspark</td><td>idle</td><td><a target=\"_blank\" href=\"http://ip-192-168-1-36.eu-central-1.compute.internal:20888/proxy/application_1732639283265_1365/\">Link</a></td><td><a target=\"_blank\" href=\"http://ip-192-168-1-181.eu-central-1.compute.internal:8042/node/containerlogs/container_1732639283265_1365_01_000002/livy\">Link</a></td><td>None</td><td></td></tr><tr><td>1404</td><td>application_1732639283265_1366</td><td>pyspark</td><td>idle</td><td><a target=\"_blank\" href=\"http://ip-192-168-1-36.eu-central-1.compute.internal:20888/proxy/application_1732639283265_1366/\">Link</a></td><td><a target=\"_blank\" href=\"http://ip-192-168-1-227.eu-central-1.compute.internal:8042/node/containerlogs/container_1732639283265_1366_01_000001/livy\">Link</a></td><td>None</td><td></td></tr><tr><td>1407</td><td>application_1732639283265_1369</td><td>pyspark</td><td>idle</td><td><a target=\"_blank\" href=\"http://ip-192-168-1-36.eu-central-1.compute.internal:20888/proxy/application_1732639283265_1369/\">Link</a></td><td><a target=\"_blank\" href=\"http://ip-192-168-1-227.eu-central-1.compute.internal:8042/node/containerlogs/container_1732639283265_1369_01_000001/livy\">Link</a></td><td>None</td><td></td></tr><tr><td>1410</td><td>application_1732639283265_1372</td><td>pyspark</td><td>idle</td><td><a target=\"_blank\" href=\"http://ip-192-168-1-36.eu-central-1.compute.internal:20888/proxy/application_1732639283265_1372/\">Link</a></td><td><a target=\"_blank\" href=\"http://ip-192-168-1-94.eu-central-1.compute.internal:8042/node/containerlogs/container_1732639283265_1372_01_000001/livy\">Link</a></td><td>None</td><td></td></tr><tr><td>1412</td><td>application_1732639283265_1374</td><td>pyspark</td><td>idle</td><td><a target=\"_blank\" href=\"http://ip-192-168-1-36.eu-central-1.compute.internal:20888/proxy/application_1732639283265_1374/\">Link</a></td><td><a target=\"_blank\" href=\"http://ip-192-168-1-119.eu-central-1.compute.internal:8042/node/containerlogs/container_1732639283265_1374_01_000001/livy\">Link</a></td><td>None</td><td></td></tr><tr><td>1413</td><td>application_1732639283265_1375</td><td>pyspark</td><td>idle</td><td><a target=\"_blank\" href=\"http://ip-192-168-1-36.eu-central-1.compute.internal:20888/proxy/application_1732639283265_1375/\">Link</a></td><td><a target=\"_blank\" href=\"http://ip-192-168-1-166.eu-central-1.compute.internal:8042/node/containerlogs/container_1732639283265_1375_01_000001/livy\">Link</a></td><td>None</td><td></td></tr><tr><td>1415</td><td>application_1732639283265_1377</td><td>pyspark</td><td>idle</td><td><a target=\"_blank\" href=\"http://ip-192-168-1-36.eu-central-1.compute.internal:20888/proxy/application_1732639283265_1377/\">Link</a></td><td><a target=\"_blank\" href=\"http://ip-192-168-1-247.eu-central-1.compute.internal:8042/node/containerlogs/container_1732639283265_1377_01_000001/livy\">Link</a></td><td>None</td><td></td></tr><tr><td>1416</td><td>application_1732639283265_1378</td><td>pyspark</td><td>idle</td><td><a target=\"_blank\" href=\"http://ip-192-168-1-36.eu-central-1.compute.internal:20888/proxy/application_1732639283265_1378/\">Link</a></td><td><a target=\"_blank\" href=\"http://ip-192-168-1-119.eu-central-1.compute.internal:8042/node/containerlogs/container_1732639283265_1378_01_000002/livy\">Link</a></td><td>None</td><td></td></tr><tr><td>1417</td><td>application_1732639283265_1379</td><td>pyspark</td><td>idle</td><td><a target=\"_blank\" href=\"http://ip-192-168-1-36.eu-central-1.compute.internal:20888/proxy/application_1732639283265_1379/\">Link</a></td><td><a target=\"_blank\" href=\"http://ip-192-168-1-247.eu-central-1.compute.internal:8042/node/containerlogs/container_1732639283265_1379_01_000001/livy\">Link</a></td><td>None</td><td></td></tr><tr><td>1419</td><td>application_1732639283265_1381</td><td>pyspark</td><td>idle</td><td><a target=\"_blank\" href=\"http://ip-192-168-1-36.eu-central-1.compute.internal:20888/proxy/application_1732639283265_1381/\">Link</a></td><td><a target=\"_blank\" href=\"http://ip-192-168-1-247.eu-central-1.compute.internal:8042/node/containerlogs/container_1732639283265_1381_01_000002/livy\">Link</a></td><td>None</td><td></td></tr><tr><td>1422</td><td>application_1732639283265_1383</td><td>pyspark</td><td>idle</td><td><a target=\"_blank\" href=\"http://ip-192-168-1-36.eu-central-1.compute.internal:20888/proxy/application_1732639283265_1383/\">Link</a></td><td><a target=\"_blank\" href=\"http://ip-192-168-1-233.eu-central-1.compute.internal:8042/node/containerlogs/container_1732639283265_1383_01_000001/livy\">Link</a></td><td>None</td><td></td></tr><tr><td>1424</td><td>application_1732639283265_1385</td><td>pyspark</td><td>idle</td><td><a target=\"_blank\" href=\"http://ip-192-168-1-36.eu-central-1.compute.internal:20888/proxy/application_1732639283265_1385/\">Link</a></td><td><a target=\"_blank\" href=\"http://ip-192-168-1-117.eu-central-1.compute.internal:8042/node/containerlogs/container_1732639283265_1385_01_000001/livy\">Link</a></td><td>None</td><td></td></tr><tr><td>1425</td><td>application_1732639283265_1386</td><td>pyspark</td><td>idle</td><td><a target=\"_blank\" href=\"http://ip-192-168-1-36.eu-central-1.compute.internal:20888/proxy/application_1732639283265_1386/\">Link</a></td><td><a target=\"_blank\" href=\"http://ip-192-168-1-227.eu-central-1.compute.internal:8042/node/containerlogs/container_1732639283265_1386_01_000002/livy\">Link</a></td><td>None</td><td></td></tr><tr><td>1431</td><td>application_1732639283265_1392</td><td>pyspark</td><td>idle</td><td><a target=\"_blank\" href=\"http://ip-192-168-1-36.eu-central-1.compute.internal:20888/proxy/application_1732639283265_1392/\">Link</a></td><td><a target=\"_blank\" href=\"http://ip-192-168-1-227.eu-central-1.compute.internal:8042/node/containerlogs/container_1732639283265_1392_01_000001/livy\">Link</a></td><td>None</td><td></td></tr><tr><td>1433</td><td>application_1732639283265_1394</td><td>pyspark</td><td>idle</td><td><a target=\"_blank\" href=\"http://ip-192-168-1-36.eu-central-1.compute.internal:20888/proxy/application_1732639283265_1394/\">Link</a></td><td><a target=\"_blank\" href=\"http://ip-192-168-1-16.eu-central-1.compute.internal:8042/node/containerlogs/container_1732639283265_1394_01_000001/livy\">Link</a></td><td>None</td><td></td></tr><tr><td>1450</td><td>application_1732639283265_1411</td><td>pyspark</td><td>idle</td><td><a target=\"_blank\" href=\"http://ip-192-168-1-36.eu-central-1.compute.internal:20888/proxy/application_1732639283265_1411/\">Link</a></td><td><a target=\"_blank\" href=\"http://ip-192-168-1-91.eu-central-1.compute.internal:8042/node/containerlogs/container_1732639283265_1411_01_000001/livy\">Link</a></td><td>None</td><td>✔</td></tr></table>"
      ],
      "text/plain": [
       "<IPython.core.display.HTML object>"
      ]
     },
     "metadata": {},
     "output_type": "display_data"
    }
   ],
   "source": [
    "%%configure -f\n",
    "{\n",
    "    \"conf\": {\n",
    "        \"spark.executor.instances\": \"2\",\n",
    "        \"spark.executor.memory\": \"4g\",\n",
    "        \"spark.executor.cores\": \"2\",\n",
    "        \"spark.driver.memory\": \"4g\"\n",
    "    }\n",
    "}\n"
   ]
  },
  {
   "cell_type": "code",
   "execution_count": 6,
   "id": "33471926-5d2c-4e27-a91f-c3d2fd269573",
   "metadata": {
    "tags": []
   },
   "outputs": [
    {
     "data": {
      "application/vnd.jupyter.widget-view+json": {
       "model_id": "",
       "version_major": 2,
       "version_minor": 0
      },
      "text/plain": [
       "FloatProgress(value=0.0, bar_style='info', description='Progress:', layout=Layout(height='25px', width='50%'),…"
      ]
     },
     "metadata": {},
     "output_type": "display_data"
    },
    {
     "name": "stdout",
     "output_type": "stream",
     "text": [
      "Racial Profile for the Top 3 Highest Income Areas:\n",
      "+--------------------+---+\n",
      "|      Victim Descent|  #|\n",
      "+--------------------+---+\n",
      "|               White|645|\n",
      "|               Other|123|\n",
      "|Hispanic/Latin/Me...| 71|\n",
      "|             Unknown| 48|\n",
      "|               Black| 38|\n",
      "|         Other Asian| 24|\n",
      "|             Chinese|  1|\n",
      "|American Indian/A...|  1|\n",
      "+--------------------+---+\n",
      "\n",
      "Racial Profile for the Top 3 Lowest Income Areas:\n",
      "+--------------------+---+\n",
      "|      Victim Descent|  #|\n",
      "+--------------------+---+\n",
      "|Hispanic/Latin/Me...|799|\n",
      "|               Black|329|\n",
      "|               White|284|\n",
      "|               Other|187|\n",
      "|         Other Asian| 37|\n",
      "|             Unknown|  9|\n",
      "|              Korean|  4|\n",
      "|American Indian/A...|  1|\n",
      "|    Pacific Islander|  1|\n",
      "+--------------------+---+\n",
      "\n",
      "Execution Time: 139.03 seconds"
     ]
    }
   ],
   "source": [
    "import time\n",
    "from pyspark.sql import SparkSession\n",
    "from pyspark.sql.functions import col, regexp_replace, to_timestamp, year\n",
    "from pyspark.sql.types import IntegerType\n",
    "from sedona.register import SedonaRegistrator\n",
    "from sedona.spark import *\n",
    "\n",
    "\n",
    "\n",
    "# Start the timer\n",
    "start_time = time.time()\n",
    "\n",
    "sedona = SedonaContext.create(spark)\n",
    "# Read the file from s3\n",
    "geojson_path = \"s3://initial-notebook-data-bucket-dblab-905418150721/2010_Census_Blocks.geojson\"\n",
    "blocks_df = sedona.read.format(\"geojson\") \\\n",
    "            .option(\"multiLine\", \"true\").load(geojson_path) \\\n",
    "            .selectExpr(\"explode(features) as features\") \\\n",
    "            .select(\"features.*\")\n",
    "# Formatting magic\n",
    "flattened_df = blocks_df.select( \\\n",
    "                [col(f\"properties.{col_name}\").alias(col_name) for col_name in \\\n",
    "                blocks_df.schema[\"properties\"].dataType.fieldNames()] + [\"geometry\"]) \\\n",
    "            .drop(\"properties\") \\\n",
    "            .drop(\"type\")\n",
    "\n",
    "\n",
    "# Load Crime Data\n",
    "crime_df = spark.read.csv(\n",
    "    \"s3://initial-notebook-data-bucket-dblab-905418150721/CrimeData/Crime_Data_from_2010_to_2019_20241101.csv\",\n",
    "    header=True,\n",
    "    inferSchema=True\n",
    ")\n",
    "\n",
    "# Transform (LAT, LON) into a geometry column\n",
    "crime_df = crime_df.withColumn(\"geom\", ST_Point(\"LON\", \"LAT\"))\n",
    "\n",
    "\n",
    "# Read Median Income Data\n",
    "income_df = spark.read.csv(\n",
    "    \"s3://initial-notebook-data-bucket-dblab-905418150721/LA_income_2015.csv\",\n",
    "    header=True,\n",
    "    inferSchema=True\n",
    ")\n",
    "income_df = income_df.withColumn(\n",
    "    \"Median Income\",\n",
    "    regexp_replace(col(\"Estimated Median Income\"), \"[$,]\", \"\").cast(IntegerType())\n",
    ")\n",
    "income_df = income_df.withColumnRenamed(\"Zip Code\", \"ZIP Code\")\n",
    "\n",
    "# First Join: Join Census Data with Median Income using ZIP Code and ZCTA10\n",
    "census_income_df = flattened_df.join(\n",
    "    income_df,\n",
    "    flattened_df[\"ZCTA10\"] == income_df[\"ZIP Code\"],\n",
    "    \"inner\"\n",
    ").select(\n",
    "    \"ZCTA10\", \"geometry\", \"Community\", \"Median Income\"\n",
    ")\n",
    "\n",
    "# Read Race and Ethnicity Mapping Data from CSV\n",
    "race_ethnicity_df = spark.read.csv(\n",
    "    \"s3://initial-notebook-data-bucket-dblab-905418150721/RE_codes.csv\",\n",
    "    header=True,\n",
    "    inferSchema=True\n",
    ")\n",
    "\n",
    "# Second Join: Join Census-Income Data with Crime Data using Geometry Columns\n",
    "final_joined_df = census_income_df.join(\n",
    "    crime_df,\n",
    "    ST_Within(crime_df.geom, census_income_df.geometry),\n",
    "    \"inner\"\n",
    ").select(\n",
    "    col(\"DATE OCC\").alias(\"Date\"),\n",
    "    \"Median Income\",\n",
    "    \"Community\",\n",
    "    col(\"Vict Descent\").alias(\"Victim Descent\")\n",
    ")\n",
    "\n",
    "# Step 1: Convert 'DATE OCC' from string to TimestampType (with date and time)\n",
    "final_joined_df = final_joined_df.withColumn(\n",
    "    \"DateParsed\",\n",
    "    to_timestamp(col(\"Date\"), \"MM/dd/yyyy hh:mm:ss a\")  # Adjusting for MM/dd/yyyy hh:mm:ss a format\n",
    ")\n",
    "\n",
    "# Step 2: Filter for crimes that happened in 2015\n",
    "final_joined_2015_df = final_joined_df.filter(year(col(\"DateParsed\")) == 2015)\n",
    "\n",
    "\n",
    "# Step 3: Join with Race and Ethnicity Mapping\n",
    "final_with_race_df = final_joined_2015_df.join(\n",
    "    race_ethnicity_df,\n",
    "    final_joined_2015_df[\"Victim Descent\"] == race_ethnicity_df[\"Vict Descent\"],\n",
    "    \"inner\"\n",
    ").drop(race_ethnicity_df[\"Vict Descent\"])\n",
    "\n",
    "# Rename the 'Community' column in both DataFrames to avoid ambiguity\n",
    "final_with_race_df = final_with_race_df.withColumnRenamed(\"Community\", \"Community_final\")\n",
    "census_income_df = census_income_df.withColumnRenamed(\"Community\", \"Community_census\")\n",
    "\n",
    "# Step 4: Calculate the top 3 highest and lowest income areas\n",
    "income_ranking_df = census_income_df.groupBy(\"Community_census\").agg({\"Median Income\": \"avg\"}).withColumnRenamed(\"avg(Median Income)\", \"Average Income\")\n",
    "\n",
    "top_3_highest_income = income_ranking_df.orderBy(col(\"Average Income\").desc()).limit(3)\n",
    "top_3_lowest_income = income_ranking_df.orderBy(col(\"Average Income\").asc()).limit(3)\n",
    "\n",
    "# Filter final_with_race_df for the top 3 highest and lowest income areas\n",
    "high_income_df = final_with_race_df.join(\n",
    "    top_3_highest_income,\n",
    "    final_with_race_df[\"Community_final\"] == top_3_highest_income[\"Community_census\"]\n",
    ")\n",
    "\n",
    "low_income_df = final_with_race_df.join(\n",
    "    top_3_lowest_income,\n",
    "    final_with_race_df[\"Community_final\"] == top_3_lowest_income[\"Community_census\"]\n",
    ")\n",
    "\n",
    "# Step 5: Calculate the racial profile for the top 3 highest income areas\n",
    "high_income_race_profile_df = high_income_df.groupBy(\"Vict Descent Full\").count().orderBy(\"count\", ascending=False)\n",
    "\n",
    "# Step 6: Calculate the racial profile for the top 3 lowest income areas\n",
    "low_income_race_profile_df = low_income_df.groupBy(\"Vict Descent Full\").count().orderBy(\"count\", ascending=False)\n",
    "\n",
    "# Step 7: Prepare results for the top 3 highest income areas\n",
    "print(\"Racial Profile for the Top 3 Highest Income Areas:\")\n",
    "high_income_race_profile_df = high_income_race_profile_df.withColumnRenamed(\"Vict Descent Full\", \"Victim Descent\") \\\n",
    "                                                         .withColumnRenamed(\"count\", \"#\")\n",
    "high_income_race_profile_df.show()\n",
    "\n",
    "# Step 8: Prepare results for the top 3 lowest income areas\n",
    "print(\"Racial Profile for the Top 3 Lowest Income Areas:\")\n",
    "low_income_race_profile_df = low_income_race_profile_df.withColumnRenamed(\"Vict Descent Full\", \"Victim Descent\") \\\n",
    "                                                       .withColumnRenamed(\"count\", \"#\")\n",
    "low_income_race_profile_df.show()\n",
    "\n",
    "# End the timer\n",
    "end_time = time.time()\n",
    "\n",
    "# Print the execution time\n",
    "execution_time = end_time - start_time\n",
    "print(f\"Execution Time: {execution_time:.2f} seconds\")\n"
   ]
  },
  {
   "cell_type": "code",
   "execution_count": 7,
   "id": "613229e6-60dd-4c53-aa03-1152d11a6d71",
   "metadata": {
    "tags": []
   },
   "outputs": [
    {
     "data": {
      "application/vnd.jupyter.widget-view+json": {
       "model_id": "",
       "version_major": 2,
       "version_minor": 0
      },
      "text/plain": [
       "FloatProgress(value=0.0, bar_style='info', description='Progress:', layout=Layout(height='25px', width='50%'),…"
      ]
     },
     "metadata": {},
     "output_type": "display_data"
    },
    {
     "name": "stdout",
     "output_type": "stream",
     "text": [
      "Executor Instances: 2\n",
      "Executor Memory: 4g\n",
      "Executor Cores: 2"
     ]
    }
   ],
   "source": [
    "# Access configuration\n",
    "conf = spark.sparkContext.getConf()\n",
    "\n",
    "# Print relevant executor settings\n",
    "print(\"Executor Instances:\", conf.get(\"spark.executor.instances\"))\n",
    "print(\"Executor Memory:\", conf.get(\"spark.executor.memory\"))\n",
    "print(\"Executor Cores:\", conf.get(\"spark.executor.cores\"))"
   ]
  },
  {
   "cell_type": "code",
   "execution_count": 8,
   "id": "791fb4b9-76a6-41b2-9f00-d22a7af122aa",
   "metadata": {
    "tags": []
   },
   "outputs": [
    {
     "name": "stdout",
     "output_type": "stream",
     "text": [
      "Starting Spark application\n"
     ]
    },
    {
     "data": {
      "text/html": [
       "<table>\n",
       "<tr><th>ID</th><th>YARN Application ID</th><th>Kind</th><th>State</th><th>Spark UI</th><th>Driver log</th><th>User</th><th>Current session?</th></tr><tr><td>1451</td><td>application_1732639283265_1412</td><td>pyspark</td><td>idle</td><td><a target=\"_blank\" href=\"http://ip-192-168-1-36.eu-central-1.compute.internal:20888/proxy/application_1732639283265_1412/\">Link</a></td><td><a target=\"_blank\" href=\"http://ip-192-168-1-174.eu-central-1.compute.internal:8042/node/containerlogs/container_1732639283265_1412_01_000001/livy\">Link</a></td><td>None</td><td>✔</td></tr></table>"
      ],
      "text/plain": [
       "<IPython.core.display.HTML object>"
      ]
     },
     "metadata": {},
     "output_type": "display_data"
    },
    {
     "data": {
      "application/vnd.jupyter.widget-view+json": {
       "model_id": "",
       "version_major": 2,
       "version_minor": 0
      },
      "text/plain": [
       "FloatProgress(value=0.0, bar_style='info', description='Progress:', layout=Layout(height='25px', width='50%'),…"
      ]
     },
     "metadata": {},
     "output_type": "display_data"
    },
    {
     "name": "stdout",
     "output_type": "stream",
     "text": [
      "SparkSession available as 'spark'.\n"
     ]
    },
    {
     "data": {
      "text/html": [
       "Current session configs: <tt>{'conf': {'spark.sql.catalog.spark_catalog.type': 'hive', 'spark.executor.instances': '2', 'spark.executor.memory': '8g', 'spark.executor.cores': '4', 'spark.driver.memory': '8g'}, 'kind': 'pyspark'}</tt><br>"
      ],
      "text/plain": [
       "<IPython.core.display.HTML object>"
      ]
     },
     "metadata": {},
     "output_type": "display_data"
    },
    {
     "data": {
      "text/html": [
       "<table>\n",
       "<tr><th>ID</th><th>YARN Application ID</th><th>Kind</th><th>State</th><th>Spark UI</th><th>Driver log</th><th>User</th><th>Current session?</th></tr><tr><td>1330</td><td>application_1732639283265_1292</td><td>pyspark</td><td>idle</td><td><a target=\"_blank\" href=\"http://ip-192-168-1-36.eu-central-1.compute.internal:20888/proxy/application_1732639283265_1292/\">Link</a></td><td><a target=\"_blank\" href=\"http://ip-192-168-1-203.eu-central-1.compute.internal:8042/node/containerlogs/container_1732639283265_1292_01_000001/livy\">Link</a></td><td>None</td><td></td></tr><tr><td>1331</td><td>application_1732639283265_1293</td><td>pyspark</td><td>idle</td><td><a target=\"_blank\" href=\"http://ip-192-168-1-36.eu-central-1.compute.internal:20888/proxy/application_1732639283265_1293/\">Link</a></td><td><a target=\"_blank\" href=\"http://ip-192-168-1-203.eu-central-1.compute.internal:8042/node/containerlogs/container_1732639283265_1293_01_000001/livy\">Link</a></td><td>None</td><td></td></tr><tr><td>1348</td><td>application_1732639283265_1310</td><td>pyspark</td><td>idle</td><td><a target=\"_blank\" href=\"http://ip-192-168-1-36.eu-central-1.compute.internal:20888/proxy/application_1732639283265_1310/\">Link</a></td><td><a target=\"_blank\" href=\"http://ip-192-168-1-80.eu-central-1.compute.internal:8042/node/containerlogs/container_1732639283265_1310_01_000002/livy\">Link</a></td><td>None</td><td></td></tr><tr><td>1390</td><td>application_1732639283265_1352</td><td>pyspark</td><td>idle</td><td><a target=\"_blank\" href=\"http://ip-192-168-1-36.eu-central-1.compute.internal:20888/proxy/application_1732639283265_1352/\">Link</a></td><td><a target=\"_blank\" href=\"http://ip-192-168-1-203.eu-central-1.compute.internal:8042/node/containerlogs/container_1732639283265_1352_01_000001/livy\">Link</a></td><td>None</td><td></td></tr><tr><td>1403</td><td>application_1732639283265_1365</td><td>pyspark</td><td>idle</td><td><a target=\"_blank\" href=\"http://ip-192-168-1-36.eu-central-1.compute.internal:20888/proxy/application_1732639283265_1365/\">Link</a></td><td><a target=\"_blank\" href=\"http://ip-192-168-1-181.eu-central-1.compute.internal:8042/node/containerlogs/container_1732639283265_1365_01_000002/livy\">Link</a></td><td>None</td><td></td></tr><tr><td>1404</td><td>application_1732639283265_1366</td><td>pyspark</td><td>idle</td><td><a target=\"_blank\" href=\"http://ip-192-168-1-36.eu-central-1.compute.internal:20888/proxy/application_1732639283265_1366/\">Link</a></td><td><a target=\"_blank\" href=\"http://ip-192-168-1-227.eu-central-1.compute.internal:8042/node/containerlogs/container_1732639283265_1366_01_000001/livy\">Link</a></td><td>None</td><td></td></tr><tr><td>1407</td><td>application_1732639283265_1369</td><td>pyspark</td><td>idle</td><td><a target=\"_blank\" href=\"http://ip-192-168-1-36.eu-central-1.compute.internal:20888/proxy/application_1732639283265_1369/\">Link</a></td><td><a target=\"_blank\" href=\"http://ip-192-168-1-227.eu-central-1.compute.internal:8042/node/containerlogs/container_1732639283265_1369_01_000001/livy\">Link</a></td><td>None</td><td></td></tr><tr><td>1410</td><td>application_1732639283265_1372</td><td>pyspark</td><td>idle</td><td><a target=\"_blank\" href=\"http://ip-192-168-1-36.eu-central-1.compute.internal:20888/proxy/application_1732639283265_1372/\">Link</a></td><td><a target=\"_blank\" href=\"http://ip-192-168-1-94.eu-central-1.compute.internal:8042/node/containerlogs/container_1732639283265_1372_01_000001/livy\">Link</a></td><td>None</td><td></td></tr><tr><td>1412</td><td>application_1732639283265_1374</td><td>pyspark</td><td>idle</td><td><a target=\"_blank\" href=\"http://ip-192-168-1-36.eu-central-1.compute.internal:20888/proxy/application_1732639283265_1374/\">Link</a></td><td><a target=\"_blank\" href=\"http://ip-192-168-1-119.eu-central-1.compute.internal:8042/node/containerlogs/container_1732639283265_1374_01_000001/livy\">Link</a></td><td>None</td><td></td></tr><tr><td>1413</td><td>application_1732639283265_1375</td><td>pyspark</td><td>idle</td><td><a target=\"_blank\" href=\"http://ip-192-168-1-36.eu-central-1.compute.internal:20888/proxy/application_1732639283265_1375/\">Link</a></td><td><a target=\"_blank\" href=\"http://ip-192-168-1-166.eu-central-1.compute.internal:8042/node/containerlogs/container_1732639283265_1375_01_000001/livy\">Link</a></td><td>None</td><td></td></tr><tr><td>1415</td><td>application_1732639283265_1377</td><td>pyspark</td><td>idle</td><td><a target=\"_blank\" href=\"http://ip-192-168-1-36.eu-central-1.compute.internal:20888/proxy/application_1732639283265_1377/\">Link</a></td><td><a target=\"_blank\" href=\"http://ip-192-168-1-247.eu-central-1.compute.internal:8042/node/containerlogs/container_1732639283265_1377_01_000001/livy\">Link</a></td><td>None</td><td></td></tr><tr><td>1416</td><td>application_1732639283265_1378</td><td>pyspark</td><td>idle</td><td><a target=\"_blank\" href=\"http://ip-192-168-1-36.eu-central-1.compute.internal:20888/proxy/application_1732639283265_1378/\">Link</a></td><td><a target=\"_blank\" href=\"http://ip-192-168-1-119.eu-central-1.compute.internal:8042/node/containerlogs/container_1732639283265_1378_01_000002/livy\">Link</a></td><td>None</td><td></td></tr><tr><td>1417</td><td>application_1732639283265_1379</td><td>pyspark</td><td>idle</td><td><a target=\"_blank\" href=\"http://ip-192-168-1-36.eu-central-1.compute.internal:20888/proxy/application_1732639283265_1379/\">Link</a></td><td><a target=\"_blank\" href=\"http://ip-192-168-1-247.eu-central-1.compute.internal:8042/node/containerlogs/container_1732639283265_1379_01_000001/livy\">Link</a></td><td>None</td><td></td></tr><tr><td>1419</td><td>application_1732639283265_1381</td><td>pyspark</td><td>idle</td><td><a target=\"_blank\" href=\"http://ip-192-168-1-36.eu-central-1.compute.internal:20888/proxy/application_1732639283265_1381/\">Link</a></td><td><a target=\"_blank\" href=\"http://ip-192-168-1-247.eu-central-1.compute.internal:8042/node/containerlogs/container_1732639283265_1381_01_000002/livy\">Link</a></td><td>None</td><td></td></tr><tr><td>1422</td><td>application_1732639283265_1383</td><td>pyspark</td><td>idle</td><td><a target=\"_blank\" href=\"http://ip-192-168-1-36.eu-central-1.compute.internal:20888/proxy/application_1732639283265_1383/\">Link</a></td><td><a target=\"_blank\" href=\"http://ip-192-168-1-233.eu-central-1.compute.internal:8042/node/containerlogs/container_1732639283265_1383_01_000001/livy\">Link</a></td><td>None</td><td></td></tr><tr><td>1424</td><td>application_1732639283265_1385</td><td>pyspark</td><td>idle</td><td><a target=\"_blank\" href=\"http://ip-192-168-1-36.eu-central-1.compute.internal:20888/proxy/application_1732639283265_1385/\">Link</a></td><td><a target=\"_blank\" href=\"http://ip-192-168-1-117.eu-central-1.compute.internal:8042/node/containerlogs/container_1732639283265_1385_01_000001/livy\">Link</a></td><td>None</td><td></td></tr><tr><td>1425</td><td>application_1732639283265_1386</td><td>pyspark</td><td>idle</td><td><a target=\"_blank\" href=\"http://ip-192-168-1-36.eu-central-1.compute.internal:20888/proxy/application_1732639283265_1386/\">Link</a></td><td><a target=\"_blank\" href=\"http://ip-192-168-1-227.eu-central-1.compute.internal:8042/node/containerlogs/container_1732639283265_1386_01_000002/livy\">Link</a></td><td>None</td><td></td></tr><tr><td>1431</td><td>application_1732639283265_1392</td><td>pyspark</td><td>idle</td><td><a target=\"_blank\" href=\"http://ip-192-168-1-36.eu-central-1.compute.internal:20888/proxy/application_1732639283265_1392/\">Link</a></td><td><a target=\"_blank\" href=\"http://ip-192-168-1-227.eu-central-1.compute.internal:8042/node/containerlogs/container_1732639283265_1392_01_000001/livy\">Link</a></td><td>None</td><td></td></tr><tr><td>1433</td><td>application_1732639283265_1394</td><td>pyspark</td><td>idle</td><td><a target=\"_blank\" href=\"http://ip-192-168-1-36.eu-central-1.compute.internal:20888/proxy/application_1732639283265_1394/\">Link</a></td><td><a target=\"_blank\" href=\"http://ip-192-168-1-16.eu-central-1.compute.internal:8042/node/containerlogs/container_1732639283265_1394_01_000001/livy\">Link</a></td><td>None</td><td></td></tr><tr><td>1451</td><td>application_1732639283265_1412</td><td>pyspark</td><td>idle</td><td><a target=\"_blank\" href=\"http://ip-192-168-1-36.eu-central-1.compute.internal:20888/proxy/application_1732639283265_1412/\">Link</a></td><td><a target=\"_blank\" href=\"http://ip-192-168-1-174.eu-central-1.compute.internal:8042/node/containerlogs/container_1732639283265_1412_01_000001/livy\">Link</a></td><td>None</td><td>✔</td></tr></table>"
      ],
      "text/plain": [
       "<IPython.core.display.HTML object>"
      ]
     },
     "metadata": {},
     "output_type": "display_data"
    }
   ],
   "source": [
    "%%configure -f\n",
    "{\n",
    "    \"conf\": {\n",
    "        \"spark.executor.instances\": \"2\",\n",
    "        \"spark.executor.memory\": \"8g\",\n",
    "        \"spark.executor.cores\": \"4\",\n",
    "        \"spark.driver.memory\": \"8g\"\n",
    "    }\n",
    "}\n"
   ]
  },
  {
   "cell_type": "code",
   "execution_count": 9,
   "id": "9d123c8d-0cc9-4e62-a3c9-1f23225be24d",
   "metadata": {
    "tags": []
   },
   "outputs": [
    {
     "data": {
      "application/vnd.jupyter.widget-view+json": {
       "model_id": "",
       "version_major": 2,
       "version_minor": 0
      },
      "text/plain": [
       "FloatProgress(value=0.0, bar_style='info', description='Progress:', layout=Layout(height='25px', width='50%'),…"
      ]
     },
     "metadata": {},
     "output_type": "display_data"
    },
    {
     "name": "stdout",
     "output_type": "stream",
     "text": [
      "Racial Profile for the Top 3 Highest Income Areas:\n",
      "+--------------------+---+\n",
      "|      Victim Descent|  #|\n",
      "+--------------------+---+\n",
      "|               White|645|\n",
      "|               Other|123|\n",
      "|Hispanic/Latin/Me...| 71|\n",
      "|             Unknown| 48|\n",
      "|               Black| 38|\n",
      "|         Other Asian| 24|\n",
      "|             Chinese|  1|\n",
      "|American Indian/A...|  1|\n",
      "+--------------------+---+\n",
      "\n",
      "Racial Profile for the Top 3 Lowest Income Areas:\n",
      "+--------------------+---+\n",
      "|      Victim Descent|  #|\n",
      "+--------------------+---+\n",
      "|Hispanic/Latin/Me...|799|\n",
      "|               Black|329|\n",
      "|               White|284|\n",
      "|               Other|187|\n",
      "|         Other Asian| 37|\n",
      "|             Unknown|  9|\n",
      "|              Korean|  4|\n",
      "|American Indian/A...|  1|\n",
      "|    Pacific Islander|  1|\n",
      "+--------------------+---+\n",
      "\n",
      "Execution Time: 136.01 seconds"
     ]
    }
   ],
   "source": [
    "import time\n",
    "from pyspark.sql import SparkSession\n",
    "from pyspark.sql.functions import col, regexp_replace, to_timestamp, year\n",
    "from pyspark.sql.types import IntegerType\n",
    "from sedona.register import SedonaRegistrator\n",
    "from sedona.spark import *\n",
    "\n",
    "\n",
    "\n",
    "# Start the timer\n",
    "start_time = time.time()\n",
    "\n",
    "sedona = SedonaContext.create(spark)\n",
    "# Read the file from s3\n",
    "geojson_path = \"s3://initial-notebook-data-bucket-dblab-905418150721/2010_Census_Blocks.geojson\"\n",
    "blocks_df = sedona.read.format(\"geojson\") \\\n",
    "            .option(\"multiLine\", \"true\").load(geojson_path) \\\n",
    "            .selectExpr(\"explode(features) as features\") \\\n",
    "            .select(\"features.*\")\n",
    "# Formatting magic\n",
    "flattened_df = blocks_df.select( \\\n",
    "                [col(f\"properties.{col_name}\").alias(col_name) for col_name in \\\n",
    "                blocks_df.schema[\"properties\"].dataType.fieldNames()] + [\"geometry\"]) \\\n",
    "            .drop(\"properties\") \\\n",
    "            .drop(\"type\")\n",
    "\n",
    "\n",
    "# Load Crime Data\n",
    "crime_df = spark.read.csv(\n",
    "    \"s3://initial-notebook-data-bucket-dblab-905418150721/CrimeData/Crime_Data_from_2010_to_2019_20241101.csv\",\n",
    "    header=True,\n",
    "    inferSchema=True\n",
    ")\n",
    "\n",
    "# Transform (LAT, LON) into a geometry column\n",
    "crime_df = crime_df.withColumn(\"geom\", ST_Point(\"LON\", \"LAT\"))\n",
    "\n",
    "\n",
    "# Read Median Income Data\n",
    "income_df = spark.read.csv(\n",
    "    \"s3://initial-notebook-data-bucket-dblab-905418150721/LA_income_2015.csv\",\n",
    "    header=True,\n",
    "    inferSchema=True\n",
    ")\n",
    "income_df = income_df.withColumn(\n",
    "    \"Median Income\",\n",
    "    regexp_replace(col(\"Estimated Median Income\"), \"[$,]\", \"\").cast(IntegerType())\n",
    ")\n",
    "income_df = income_df.withColumnRenamed(\"Zip Code\", \"ZIP Code\")\n",
    "\n",
    "# First Join: Join Census Data with Median Income using ZIP Code and ZCTA10\n",
    "census_income_df = flattened_df.join(\n",
    "    income_df,\n",
    "    flattened_df[\"ZCTA10\"] == income_df[\"ZIP Code\"],\n",
    "    \"inner\"\n",
    ").select(\n",
    "    \"ZCTA10\", \"geometry\", \"Community\", \"Median Income\"\n",
    ")\n",
    "\n",
    "# Read Race and Ethnicity Mapping Data from CSV\n",
    "race_ethnicity_df = spark.read.csv(\n",
    "    \"s3://initial-notebook-data-bucket-dblab-905418150721/RE_codes.csv\",\n",
    "    header=True,\n",
    "    inferSchema=True\n",
    ")\n",
    "\n",
    "# Second Join: Join Census-Income Data with Crime Data using Geometry Columns\n",
    "final_joined_df = census_income_df.join(\n",
    "    crime_df,\n",
    "    ST_Within(crime_df.geom, census_income_df.geometry),\n",
    "    \"inner\"\n",
    ").select(\n",
    "    col(\"DATE OCC\").alias(\"Date\"),\n",
    "    \"Median Income\",\n",
    "    \"Community\",\n",
    "    col(\"Vict Descent\").alias(\"Victim Descent\")\n",
    ")\n",
    "\n",
    "# Step 1: Convert 'DATE OCC' from string to TimestampType (with date and time)\n",
    "final_joined_df = final_joined_df.withColumn(\n",
    "    \"DateParsed\",\n",
    "    to_timestamp(col(\"Date\"), \"MM/dd/yyyy hh:mm:ss a\")  # Adjusting for MM/dd/yyyy hh:mm:ss a format\n",
    ")\n",
    "\n",
    "# Step 2: Filter for crimes that happened in 2015\n",
    "final_joined_2015_df = final_joined_df.filter(year(col(\"DateParsed\")) == 2015)\n",
    "\n",
    "\n",
    "# Step 3: Join with Race and Ethnicity Mapping\n",
    "final_with_race_df = final_joined_2015_df.join(\n",
    "    race_ethnicity_df,\n",
    "    final_joined_2015_df[\"Victim Descent\"] == race_ethnicity_df[\"Vict Descent\"],\n",
    "    \"inner\"\n",
    ").drop(race_ethnicity_df[\"Vict Descent\"])\n",
    "\n",
    "# Rename the 'Community' column in both DataFrames to avoid ambiguity\n",
    "final_with_race_df = final_with_race_df.withColumnRenamed(\"Community\", \"Community_final\")\n",
    "census_income_df = census_income_df.withColumnRenamed(\"Community\", \"Community_census\")\n",
    "\n",
    "# Step 4: Calculate the top 3 highest and lowest income areas\n",
    "income_ranking_df = census_income_df.groupBy(\"Community_census\").agg({\"Median Income\": \"avg\"}).withColumnRenamed(\"avg(Median Income)\", \"Average Income\")\n",
    "\n",
    "top_3_highest_income = income_ranking_df.orderBy(col(\"Average Income\").desc()).limit(3)\n",
    "top_3_lowest_income = income_ranking_df.orderBy(col(\"Average Income\").asc()).limit(3)\n",
    "\n",
    "# Filter final_with_race_df for the top 3 highest and lowest income areas\n",
    "high_income_df = final_with_race_df.join(\n",
    "    top_3_highest_income,\n",
    "    final_with_race_df[\"Community_final\"] == top_3_highest_income[\"Community_census\"]\n",
    ")\n",
    "\n",
    "low_income_df = final_with_race_df.join(\n",
    "    top_3_lowest_income,\n",
    "    final_with_race_df[\"Community_final\"] == top_3_lowest_income[\"Community_census\"]\n",
    ")\n",
    "\n",
    "# Step 5: Calculate the racial profile for the top 3 highest income areas\n",
    "high_income_race_profile_df = high_income_df.groupBy(\"Vict Descent Full\").count().orderBy(\"count\", ascending=False)\n",
    "\n",
    "# Step 6: Calculate the racial profile for the top 3 lowest income areas\n",
    "low_income_race_profile_df = low_income_df.groupBy(\"Vict Descent Full\").count().orderBy(\"count\", ascending=False)\n",
    "\n",
    "# Step 7: Prepare results for the top 3 highest income areas\n",
    "print(\"Racial Profile for the Top 3 Highest Income Areas:\")\n",
    "high_income_race_profile_df = high_income_race_profile_df.withColumnRenamed(\"Vict Descent Full\", \"Victim Descent\") \\\n",
    "                                                         .withColumnRenamed(\"count\", \"#\")\n",
    "high_income_race_profile_df.show()\n",
    "\n",
    "# Step 8: Prepare results for the top 3 lowest income areas\n",
    "print(\"Racial Profile for the Top 3 Lowest Income Areas:\")\n",
    "low_income_race_profile_df = low_income_race_profile_df.withColumnRenamed(\"Vict Descent Full\", \"Victim Descent\") \\\n",
    "                                                       .withColumnRenamed(\"count\", \"#\")\n",
    "low_income_race_profile_df.show()\n",
    "\n",
    "# End the timer\n",
    "end_time = time.time()\n",
    "\n",
    "# Print the execution time\n",
    "execution_time = end_time - start_time\n",
    "print(f\"Execution Time: {execution_time:.2f} seconds\")\n"
   ]
  },
  {
   "cell_type": "code",
   "execution_count": 10,
   "id": "bf6d45fa-1a35-4262-82e0-3251005cf02d",
   "metadata": {
    "tags": []
   },
   "outputs": [
    {
     "data": {
      "application/vnd.jupyter.widget-view+json": {
       "model_id": "",
       "version_major": 2,
       "version_minor": 0
      },
      "text/plain": [
       "FloatProgress(value=0.0, bar_style='info', description='Progress:', layout=Layout(height='25px', width='50%'),…"
      ]
     },
     "metadata": {},
     "output_type": "display_data"
    },
    {
     "name": "stdout",
     "output_type": "stream",
     "text": [
      "Executor Instances: 2\n",
      "Executor Memory: 8g\n",
      "Executor Cores: 4"
     ]
    }
   ],
   "source": [
    "# Access configuration\n",
    "conf = spark.sparkContext.getConf()\n",
    "\n",
    "# Print relevant executor settings\n",
    "print(\"Executor Instances:\", conf.get(\"spark.executor.instances\"))\n",
    "print(\"Executor Memory:\", conf.get(\"spark.executor.memory\"))\n",
    "print(\"Executor Cores:\", conf.get(\"spark.executor.cores\"))"
   ]
  },
  {
   "cell_type": "code",
   "execution_count": null,
   "id": "fe512c54-4a15-4622-86c4-5099a1148689",
   "metadata": {},
   "outputs": [],
   "source": []
  }
 ],
 "metadata": {
  "kernelspec": {
   "display_name": "Sparkmagic (PySpark)",
   "language": "python",
   "name": "pysparkkernel"
  },
  "language_info": {
   "codemirror_mode": {
    "name": "python",
    "version": 3
   },
   "file_extension": ".py",
   "mimetype": "text/x-python",
   "name": "pyspark",
   "pygments_lexer": "python3"
  }
 },
 "nbformat": 4,
 "nbformat_minor": 5
}
