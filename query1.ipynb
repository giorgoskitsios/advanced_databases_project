{
 "cells": [
  {
   "cell_type": "code",
   "execution_count": 1,
   "id": "20772769",
   "metadata": {
    "tags": []
   },
   "outputs": [
    {
     "name": "stdout",
     "output_type": "stream",
     "text": [
      "Starting Spark application\n"
     ]
    },
    {
     "data": {
      "text/html": [
       "<table>\n",
       "<tr><th>ID</th><th>YARN Application ID</th><th>Kind</th><th>State</th><th>Spark UI</th><th>Driver log</th><th>User</th><th>Current session?</th></tr><tr><td>1111</td><td>application_1732639283265_1075</td><td>pyspark</td><td>idle</td><td><a target=\"_blank\" href=\"http://ip-192-168-1-36.eu-central-1.compute.internal:20888/proxy/application_1732639283265_1075/\">Link</a></td><td><a target=\"_blank\" href=\"http://ip-192-168-1-166.eu-central-1.compute.internal:8042/node/containerlogs/container_1732639283265_1075_01_000001/livy\">Link</a></td><td>None</td><td>✔</td></tr></table>"
      ],
      "text/plain": [
       "<IPython.core.display.HTML object>"
      ]
     },
     "metadata": {},
     "output_type": "display_data"
    },
    {
     "data": {
      "application/vnd.jupyter.widget-view+json": {
       "model_id": "",
       "version_major": 2,
       "version_minor": 0
      },
      "text/plain": [
       "FloatProgress(value=0.0, bar_style='info', description='Progress:', layout=Layout(height='25px', width='50%'),…"
      ]
     },
     "metadata": {},
     "output_type": "display_data"
    },
    {
     "name": "stdout",
     "output_type": "stream",
     "text": [
      "SparkSession available as 'spark'.\n"
     ]
    },
    {
     "data": {
      "application/vnd.jupyter.widget-view+json": {
       "model_id": "",
       "version_major": 2,
       "version_minor": 0
      },
      "text/plain": [
       "FloatProgress(value=0.0, bar_style='info', description='Progress:', layout=Layout(height='25px', width='50%'),…"
      ]
     },
     "metadata": {},
     "output_type": "display_data"
    },
    {
     "name": "stdout",
     "output_type": "stream",
     "text": [
      "Executor Instances: None\n",
      "Executor Memory: 4743M\n",
      "Executor Cores: 2"
     ]
    }
   ],
   "source": [
    "conf = spark.sparkContext.getConf()\n",
    "\n",
    "# Print relevant executor settings\n",
    "print(\"Executor Instances:\", conf.get(\"spark.executor.instances\"))\n",
    "print(\"Executor Memory:\", conf.get(\"spark.executor.memory\"))\n",
    "print(\"Executor Cores:\", conf.get(\"spark.executor.cores\"))"
   ]
  },
  {
   "cell_type": "code",
   "execution_count": 2,
   "id": "c5591bf1-4f8f-4d05-a6ad-f9f4c8839ab9",
   "metadata": {
    "tags": []
   },
   "outputs": [
    {
     "name": "stdout",
     "output_type": "stream",
     "text": [
      "Starting Spark application\n"
     ]
    },
    {
     "data": {
      "text/html": [
       "<table>\n",
       "<tr><th>ID</th><th>YARN Application ID</th><th>Kind</th><th>State</th><th>Spark UI</th><th>Driver log</th><th>User</th><th>Current session?</th></tr><tr><td>1112</td><td>application_1732639283265_1076</td><td>pyspark</td><td>idle</td><td><a target=\"_blank\" href=\"http://ip-192-168-1-36.eu-central-1.compute.internal:20888/proxy/application_1732639283265_1076/\">Link</a></td><td><a target=\"_blank\" href=\"http://ip-192-168-1-166.eu-central-1.compute.internal:8042/node/containerlogs/container_1732639283265_1076_01_000002/livy\">Link</a></td><td>None</td><td>✔</td></tr></table>"
      ],
      "text/plain": [
       "<IPython.core.display.HTML object>"
      ]
     },
     "metadata": {},
     "output_type": "display_data"
    },
    {
     "data": {
      "application/vnd.jupyter.widget-view+json": {
       "model_id": "",
       "version_major": 2,
       "version_minor": 0
      },
      "text/plain": [
       "FloatProgress(value=0.0, bar_style='info', description='Progress:', layout=Layout(height='25px', width='50%'),…"
      ]
     },
     "metadata": {},
     "output_type": "display_data"
    },
    {
     "name": "stdout",
     "output_type": "stream",
     "text": [
      "SparkSession available as 'spark'.\n"
     ]
    },
    {
     "data": {
      "text/html": [
       "Current session configs: <tt>{'conf': {'spark.sql.catalog.spark_catalog.type': 'hive', 'spark.executor.instances': '4', 'spark.executor.memory': '1g', 'spark.executor.cores': '1', 'spark.driver.memory': '2g'}, 'kind': 'pyspark'}</tt><br>"
      ],
      "text/plain": [
       "<IPython.core.display.HTML object>"
      ]
     },
     "metadata": {},
     "output_type": "display_data"
    },
    {
     "data": {
      "text/html": [
       "<table>\n",
       "<tr><th>ID</th><th>YARN Application ID</th><th>Kind</th><th>State</th><th>Spark UI</th><th>Driver log</th><th>User</th><th>Current session?</th></tr><tr><td>1106</td><td>application_1732639283265_1070</td><td>pyspark</td><td>idle</td><td><a target=\"_blank\" href=\"http://ip-192-168-1-36.eu-central-1.compute.internal:20888/proxy/application_1732639283265_1070/\">Link</a></td><td><a target=\"_blank\" href=\"http://ip-192-168-1-166.eu-central-1.compute.internal:8042/node/containerlogs/container_1732639283265_1070_01_000001/livy\">Link</a></td><td>None</td><td></td></tr><tr><td>1107</td><td>application_1732639283265_1071</td><td>pyspark</td><td>idle</td><td><a target=\"_blank\" href=\"http://ip-192-168-1-36.eu-central-1.compute.internal:20888/proxy/application_1732639283265_1071/\">Link</a></td><td><a target=\"_blank\" href=\"http://ip-192-168-1-174.eu-central-1.compute.internal:8042/node/containerlogs/container_1732639283265_1071_01_000001/livy\">Link</a></td><td>None</td><td></td></tr><tr><td>1108</td><td>application_1732639283265_1072</td><td>pyspark</td><td>idle</td><td><a target=\"_blank\" href=\"http://ip-192-168-1-36.eu-central-1.compute.internal:20888/proxy/application_1732639283265_1072/\">Link</a></td><td><a target=\"_blank\" href=\"http://ip-192-168-1-174.eu-central-1.compute.internal:8042/node/containerlogs/container_1732639283265_1072_01_000001/livy\">Link</a></td><td>None</td><td></td></tr><tr><td>1109</td><td>application_1732639283265_1073</td><td>pyspark</td><td>idle</td><td><a target=\"_blank\" href=\"http://ip-192-168-1-36.eu-central-1.compute.internal:20888/proxy/application_1732639283265_1073/\">Link</a></td><td><a target=\"_blank\" href=\"http://ip-192-168-1-94.eu-central-1.compute.internal:8042/node/containerlogs/container_1732639283265_1073_01_000002/livy\">Link</a></td><td>None</td><td></td></tr><tr><td>1110</td><td>application_1732639283265_1074</td><td>pyspark</td><td>idle</td><td><a target=\"_blank\" href=\"http://ip-192-168-1-36.eu-central-1.compute.internal:20888/proxy/application_1732639283265_1074/\">Link</a></td><td><a target=\"_blank\" href=\"http://ip-192-168-1-166.eu-central-1.compute.internal:8042/node/containerlogs/container_1732639283265_1074_01_000002/livy\">Link</a></td><td>None</td><td></td></tr><tr><td>1112</td><td>application_1732639283265_1076</td><td>pyspark</td><td>idle</td><td><a target=\"_blank\" href=\"http://ip-192-168-1-36.eu-central-1.compute.internal:20888/proxy/application_1732639283265_1076/\">Link</a></td><td><a target=\"_blank\" href=\"http://ip-192-168-1-166.eu-central-1.compute.internal:8042/node/containerlogs/container_1732639283265_1076_01_000002/livy\">Link</a></td><td>None</td><td>✔</td></tr></table>"
      ],
      "text/plain": [
       "<IPython.core.display.HTML object>"
      ]
     },
     "metadata": {},
     "output_type": "display_data"
    }
   ],
   "source": [
    "%%configure -f\n",
    "{\n",
    "    \"conf\": {\n",
    "        \"spark.executor.instances\": \"4\",\n",
    "        \"spark.executor.memory\": \"1g\",\n",
    "        \"spark.executor.cores\": \"1\",\n",
    "        \"spark.driver.memory\": \"2g\"\n",
    "    }\n",
    "}"
   ]
  },
  {
   "cell_type": "code",
   "execution_count": 4,
   "id": "0070f063-59a2-4cd6-8f47-0c930cc9ca95",
   "metadata": {
    "tags": []
   },
   "outputs": [
    {
     "data": {
      "application/vnd.jupyter.widget-view+json": {
       "model_id": "",
       "version_major": 2,
       "version_minor": 0
      },
      "text/plain": [
       "FloatProgress(value=0.0, bar_style='info', description='Progress:', layout=Layout(height='25px', width='50%'),…"
      ]
     },
     "metadata": {},
     "output_type": "display_data"
    },
    {
     "name": "stdout",
     "output_type": "stream",
     "text": [
      "[('Adults', 121093), ('Young Adults', 33605), ('Children', 15928), ('Seniors', 5985)]\n",
      "RDD Execution Time: 41.49943780899048 seconds"
     ]
    }
   ],
   "source": [
    "import time\n",
    "import csv\n",
    "from io import StringIO\n",
    "\n",
    "# Start time\n",
    "start_time_rdd = time.time()\n",
    "\n",
    "# Load data from both files as RDDs\n",
    "crime_rdd_2010_2019 = sc.textFile(\"s3://initial-notebook-data-bucket-dblab-905418150721/CrimeData/Crime_Data_from_2010_to_2019_20241101.csv\")\n",
    "crime_rdd_2020_present = sc.textFile(\"s3://initial-notebook-data-bucket-dblab-905418150721/CrimeData/Crime_Data_from_2020_to_Present_20241101.csv\")\n",
    "\n",
    "# Extract headers\n",
    "header_2010_2019 = crime_rdd_2010_2019.first()\n",
    "header_2020_present = crime_rdd_2020_present.first()\n",
    "\n",
    "# Remove headers from both RDDs\n",
    "crime_data_2010_2019 = crime_rdd_2010_2019.filter(lambda line: line != header_2010_2019)\n",
    "crime_data_2020_present = crime_rdd_2020_present.filter(lambda line: line != header_2020_present)\n",
    "\n",
    "# Combine both RDDs into one\n",
    "combined_crime_data = crime_data_2010_2019.union(crime_data_2020_present)\n",
    "\n",
    "# Parse CSV correctly\n",
    "crime_parsed = combined_crime_data.map(lambda line: list(csv.reader(StringIO(line)))[0]).filter(lambda x: len(x) > 27)\n",
    "\n",
    "# Filter for \"aggravated assault\" in crime description\n",
    "aggravated_assault = crime_parsed.filter(lambda x: \"aggravated assault\" in x[9].strip().lower())\n",
    "\n",
    "# Categorize ages\n",
    "def categorize_age(age):\n",
    "    try:\n",
    "        age = int(age)\n",
    "        if age < 18:\n",
    "            return \"Children\"\n",
    "        elif 18 <= age <= 24:\n",
    "            return \"Young Adults\"\n",
    "        elif 25 <= age <= 64:\n",
    "            return \"Adults\"\n",
    "        else:\n",
    "            return \"Seniors\"\n",
    "    except ValueError:\n",
    "        return None\n",
    "\n",
    "age_group_rdd = aggravated_assault.map(lambda x: (categorize_age(x[11]), 1)).filter(lambda x: x[0] is not None)\n",
    "\n",
    "# Count victims by age group\n",
    "age_group_counts = age_group_rdd.reduceByKey(lambda a, b: a + b)\n",
    "\n",
    "# Sort results by count in descending order\n",
    "sorted_age_groups = age_group_counts.sortBy(lambda x: x[1], ascending=False)\n",
    "\n",
    "# Collect and display results\n",
    "print(sorted_age_groups.collect())\n",
    "\n",
    "# End time\n",
    "end_time_rdd = time.time()\n",
    "print(f\"RDD Execution Time: {end_time_rdd - start_time_rdd} seconds\")\n"
   ]
  },
  {
   "cell_type": "code",
   "execution_count": 7,
   "id": "c79fc168-c3f7-4ad6-bfc8-08c5459491be",
   "metadata": {
    "tags": []
   },
   "outputs": [
    {
     "data": {
      "application/vnd.jupyter.widget-view+json": {
       "model_id": "",
       "version_major": 2,
       "version_minor": 0
      },
      "text/plain": [
       "FloatProgress(value=0.0, bar_style='info', description='Progress:', layout=Layout(height='25px', width='50%'),…"
      ]
     },
     "metadata": {},
     "output_type": "display_data"
    },
    {
     "name": "stdout",
     "output_type": "stream",
     "text": [
      "+------------+------+\n",
      "|    AgeGroup| Count|\n",
      "+------------+------+\n",
      "|      Adults|121093|\n",
      "|Young Adults| 33605|\n",
      "|    Children| 15928|\n",
      "|     Seniors|  5985|\n",
      "+------------+------+\n",
      "\n",
      "DataFrame Execution Time: 19.49064564704895 seconds"
     ]
    }
   ],
   "source": [
    "from pyspark.sql.functions import col, when, count\n",
    "import time\n",
    "\n",
    "# Start time\n",
    "start_time_df = time.time()\n",
    "\n",
    "# Load the first dataset as DataFrame\n",
    "crime_df_2010_2019 = spark.read.csv(\n",
    "    \"s3://initial-notebook-data-bucket-dblab-905418150721/CrimeData/Crime_Data_from_2010_to_2019_20241101.csv\",\n",
    "    header=True,\n",
    "    inferSchema=True\n",
    ")\n",
    "\n",
    "# Rename columns to trim spaces (if needed)\n",
    "crime_df_2010_2019 = crime_df_2010_2019.toDF(*[col_name.strip() for col_name in crime_df_2010_2019.columns])\n",
    "\n",
    "# Load the second dataset as DataFrame\n",
    "crime_df_2020_present = spark.read.csv(\n",
    "    \"s3://initial-notebook-data-bucket-dblab-905418150721/CrimeData/Crime_Data_from_2020_to_Present_20241101.csv\",\n",
    "    header=True,\n",
    "    inferSchema=True\n",
    ")\n",
    "\n",
    "# Rename columns to trim spaces (if needed)\n",
    "crime_df_2020_present = crime_df_2020_present.toDF(*[col_name.strip() for col_name in crime_df_2020_present.columns])\n",
    "\n",
    "# Ensure schemas match\n",
    "crime_df_2020_present = crime_df_2020_present.select(crime_df_2010_2019.columns)\n",
    "\n",
    "# Combine both DataFrames\n",
    "combined_crime_df = crime_df_2010_2019.union(crime_df_2020_present)\n",
    "\n",
    "# Filter for \"AGGRAVATED ASSAULT\"\n",
    "filtered_df = combined_crime_df.filter(col(\"Crm Cd Desc\").contains(\"AGGRAVATED ASSAULT\"))\n",
    "\n",
    "# Categorize ages into groups\n",
    "categorized_df = filtered_df.withColumn(\n",
    "    \"AgeGroup\",\n",
    "    when(col(\"Vict Age\") < 18, \"Children\")\n",
    "    .when((col(\"Vict Age\") >= 18) & (col(\"Vict Age\") <= 24), \"Young Adults\")\n",
    "    .when((col(\"Vict Age\") >= 25) & (col(\"Vict Age\") <= 64), \"Adults\")\n",
    "    .otherwise(\"Seniors\")\n",
    ")\n",
    "\n",
    "# Count victims by age group\n",
    "result_df = categorized_df.groupBy(\"AgeGroup\").agg(count(\"*\").alias(\"Count\")).orderBy(col(\"Count\").desc())\n",
    "\n",
    "# Display results\n",
    "result_df.show()\n",
    "\n",
    "# End time\n",
    "end_time_df = time.time()\n",
    "print(f\"DataFrame Execution Time: {end_time_df - start_time_df} seconds\")\n",
    "\n",
    "\n"
   ]
  },
  {
   "cell_type": "code",
   "execution_count": null,
   "id": "20daf3db-8e77-4f1a-ba61-a96533adbed4",
   "metadata": {},
   "outputs": [],
   "source": []
  }
 ],
 "metadata": {
  "kernelspec": {
   "display_name": "Sparkmagic (PySpark)",
   "language": "python",
   "name": "pysparkkernel"
  },
  "language_info": {
   "codemirror_mode": {
    "name": "python",
    "version": 3
   },
   "file_extension": ".py",
   "mimetype": "text/x-python",
   "name": "pyspark",
   "pygments_lexer": "python3"
  }
 },
 "nbformat": 4,
 "nbformat_minor": 5
}
