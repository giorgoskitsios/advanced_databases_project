{
 "cells": [
  {
   "cell_type": "code",
   "execution_count": 16,
   "id": "6e68040c-5e12-4dd3-b095-25156afbd79c",
   "metadata": {
    "tags": []
   },
   "outputs": [
    {
     "name": "stderr",
     "output_type": "stream",
     "text": [
      "An error was encountered:\n",
      "Invalid status code '404' from http://ec2-35-159-120-182.eu-central-1.compute.amazonaws.com:8998/sessions/1204 with error payload: {\"msg\":\"Session '1204' not found.\"}\n"
     ]
    }
   ],
   "source": [
    "from pyspark.sql import SparkSession\n",
    "from pyspark.sql.functions import col, regexp_replace, count\n",
    "from pyspark.sql.types import IntegerType\n",
    "from sedona.spark import *\n",
    "import time"
   ]
  },
  {
   "cell_type": "code",
   "execution_count": 2,
   "id": "154641b4-1021-48b1-ae2d-8384eeb188a7",
   "metadata": {
    "tags": []
   },
   "outputs": [
    {
     "data": {
      "application/vnd.jupyter.widget-view+json": {
       "model_id": "",
       "version_major": 2,
       "version_minor": 0
      },
      "text/plain": [
       "FloatProgress(value=0.0, bar_style='info', description='Progress:', layout=Layout(height='25px', width='50%'),…"
      ]
     },
     "metadata": {},
     "output_type": "display_data"
    },
    {
     "name": "stdout",
     "output_type": "stream",
     "text": [
      "root\n",
      " |-- BG10: string (nullable = true)\n",
      " |-- BG10FIP10: string (nullable = true)\n",
      " |-- BG12: string (nullable = true)\n",
      " |-- CB10: string (nullable = true)\n",
      " |-- CEN_FIP13: string (nullable = true)\n",
      " |-- CITY: string (nullable = true)\n",
      " |-- CITYCOM: string (nullable = true)\n",
      " |-- COMM: string (nullable = true)\n",
      " |-- CT10: string (nullable = true)\n",
      " |-- CT12: string (nullable = true)\n",
      " |-- CTCB10: string (nullable = true)\n",
      " |-- HD_2012: long (nullable = true)\n",
      " |-- HD_NAME: string (nullable = true)\n",
      " |-- HOUSING10: long (nullable = true)\n",
      " |-- LA_FIP10: string (nullable = true)\n",
      " |-- OBJECTID: long (nullable = true)\n",
      " |-- POP_2010: long (nullable = true)\n",
      " |-- PUMA10: string (nullable = true)\n",
      " |-- SPA_2012: long (nullable = true)\n",
      " |-- SPA_NAME: string (nullable = true)\n",
      " |-- SUP_DIST: string (nullable = true)\n",
      " |-- SUP_LABEL: string (nullable = true)\n",
      " |-- ShapeSTArea: double (nullable = true)\n",
      " |-- ShapeSTLength: double (nullable = true)\n",
      " |-- ZCTA10: string (nullable = true)\n",
      " |-- geometry: geometry (nullable = true)"
     ]
    }
   ],
   "source": [
    "# Spark SQL code\n",
    "spark = SparkSession \\\n",
    "    .builder \\\n",
    "    .appName(\"Query 3\") \\\n",
    "    .getOrCreate()\n",
    "\n",
    "# Create sedona context\n",
    "sedona = SedonaContext.create(spark)\n",
    "# Read the file from s3\n",
    "geojson_path = \"s3://initial-notebook-data-bucket-dblab-905418150721/2010_Census_Blocks.geojson\"\n",
    "blocks_df = sedona.read.format(\"geojson\") \\\n",
    "            .option(\"multiLine\", \"true\").load(geojson_path) \\\n",
    "            .selectExpr(\"explode(features) as features\") \\\n",
    "            .select(\"features.*\")\n",
    "# Formatting magic\n",
    "flattened_df = blocks_df.select( \\\n",
    "                [col(f\"properties.{col_name}\").alias(col_name) for col_name in \\\n",
    "                blocks_df.schema[\"properties\"].dataType.fieldNames()] + [\"geometry\"]) \\\n",
    "            .drop(\"properties\") \\\n",
    "            .drop(\"type\")\n",
    "# Print schema\n",
    "flattened_df.printSchema()\n"
   ]
  },
  {
   "cell_type": "code",
   "execution_count": 3,
   "id": "f6b67bbc-1466-494d-aa48-d91016b8aea3",
   "metadata": {
    "tags": []
   },
   "outputs": [
    {
     "data": {
      "application/vnd.jupyter.widget-view+json": {
       "model_id": "",
       "version_major": 2,
       "version_minor": 0
      },
      "text/plain": [
       "FloatProgress(value=0.0, bar_style='info', description='Progress:', layout=Layout(height='25px', width='50%'),…"
      ]
     },
     "metadata": {},
     "output_type": "display_data"
    },
    {
     "name": "stdout",
     "output_type": "stream",
     "text": [
      "root\n",
      " |-- COMM: string (nullable = true)\n",
      " |-- geometry: geometry (nullable = true)"
     ]
    }
   ],
   "source": [
    "LA_areas = flattened_df.groupBy(\"COMM\").agg(ST_Union_Aggr(\"geometry\").alias(\"geometry\"))\n",
    "LA_areas.printSchema()"
   ]
  },
  {
   "cell_type": "code",
   "execution_count": 4,
   "id": "1dd56460-6b8c-4aa4-b775-7b0052a19e17",
   "metadata": {
    "tags": []
   },
   "outputs": [
    {
     "data": {
      "application/vnd.jupyter.widget-view+json": {
       "model_id": "",
       "version_major": 2,
       "version_minor": 0
      },
      "text/plain": [
       "FloatProgress(value=0.0, bar_style='info', description='Progress:', layout=Layout(height='25px', width='50%'),…"
      ]
     },
     "metadata": {},
     "output_type": "display_data"
    },
    {
     "name": "stdout",
     "output_type": "stream",
     "text": [
      "+-------+---------+--------------------+\n",
      "|    LAT|      LON|                geom|\n",
      "+-------+---------+--------------------+\n",
      "|33.9825|-118.2695|POINT (-118.2695 ...|\n",
      "|33.9599|-118.3962|POINT (-118.3962 ...|\n",
      "|34.0224|-118.2524|POINT (-118.2524 ...|\n",
      "|34.1016|-118.3295|POINT (-118.3295 ...|\n",
      "|34.0387|-118.2488|POINT (-118.2488 ...|\n",
      "| 34.048|-118.2577|POINT (-118.2577 ...|\n",
      "|34.0389|-118.2643|POINT (-118.2643 ...|\n",
      "|34.0435|-118.2427|POINT (-118.2427 ...|\n",
      "| 34.045| -118.264|POINT (-118.264 3...|\n",
      "|34.0538|-118.2488|POINT (-118.2488 ...|\n",
      "| 34.064|-118.2375|POINT (-118.2375 ...|\n",
      "| 34.035|-118.2386|POINT (-118.2386 ...|\n",
      "|34.0409|-118.2609|POINT (-118.2609 ...|\n",
      "|34.0502| -118.254|POINT (-118.254 3...|\n",
      "|34.0515|-118.2424|POINT (-118.2424 ...|\n",
      "|34.0389| -118.255|POINT (-118.255 3...|\n",
      "|34.0401|-118.2668|POINT (-118.2668 ...|\n",
      "|34.0428|-118.2461|POINT (-118.2461 ...|\n",
      "|34.0545|-118.2499|POINT (-118.2499 ...|\n",
      "|34.0563|-118.2374|POINT (-118.2374 ...|\n",
      "+-------+---------+--------------------+\n",
      "only showing top 20 rows\n",
      "\n",
      "Income Data Sample:\n",
      "+--------+--------------------+-----------------------+-------------+\n",
      "|ZIP Code|           Community|Estimated Median Income|Median Income|\n",
      "+--------+--------------------+-----------------------+-------------+\n",
      "|   90001|Los Angeles (Sout...|                $33,887|        33887|\n",
      "|   90002|Los Angeles (Sout...|                $30,413|        30413|\n",
      "|   90003|Los Angeles (Sout...|                $30,805|        30805|\n",
      "|   90004|Los Angeles (Hanc...|                $40,612|        40612|\n",
      "|   90005|Los Angeles (Hanc...|                $31,142|        31142|\n",
      "+--------+--------------------+-----------------------+-------------+\n",
      "only showing top 5 rows"
     ]
    }
   ],
   "source": [
    "# income_schema = StructType([\n",
    "#     StructField(\"Zip Code\", IntegerType()),\n",
    "#     StructField(\"Community\", StringType()),\n",
    "#     StructField(\"Estimated Median Income\", FloatType()),\n",
    "# ])\n",
    "\n",
    "# income_df = spark.read.format('csv') \\\n",
    "#     .options(header='false') \\\n",
    "#     .schema(income_schema) \\\n",
    "#     .load(\"s3://initial-notebook-data-bucket-dblab-905418150721/LA_income_2015.csv\")\n",
    "income_df = spark.read.csv(\"s3://initial-notebook-data-bucket-dblab-905418150721/LA_income_2015.csv\", header=True, inferSchema=True)\n",
    "\n",
    "income_df = income_df.withColumn(\"Median Income\", regexp_replace(col(\"Estimated Median Income\"), \"[$,]\", \"\").cast(IntegerType()))\n",
    "income_df = income_df.withColumnRenamed(\"Zip Code\", \"ZIP Code\")\n",
    "\n",
    "crime_df_1 = spark.read.csv(\"s3://initial-notebook-data-bucket-dblab-905418150721/CrimeData/Crime_Data_from_2010_to_2019_20241101.csv\", header=True, inferSchema=True)\n",
    "crime_df_2 = spark.read.csv(\"s3://initial-notebook-data-bucket-dblab-905418150721/CrimeData/Crime_Data_from_2020_to_Present_20241101.csv\", header=True, inferSchema=True)\n",
    "crime_df = crime_df_1.union(crime_df_2).select(\"LAT\", \"LON\")\n",
    "crime_df = crime_df.withColumn(\"geom\", ST_Point(\"LON\", \"LAT\"))\n",
    "crime_df.show()\n",
    "\n",
    "# Verify data in income_df\n",
    "print(\"Income Data Sample:\")\n",
    "income_df.show(5)\n",
    "\n"
   ]
  },
  {
   "cell_type": "code",
   "execution_count": 6,
   "id": "6d46aaee-d798-4116-ae5a-1c157e223a5f",
   "metadata": {
    "tags": []
   },
   "outputs": [
    {
     "data": {
      "application/vnd.jupyter.widget-view+json": {
       "model_id": "",
       "version_major": 2,
       "version_minor": 0
      },
      "text/plain": [
       "FloatProgress(value=0.0, bar_style='info', description='Progress:', layout=Layout(height='25px', width='50%'),…"
      ]
     },
     "metadata": {},
     "output_type": "display_data"
    }
   ],
   "source": [
    "flattened_df.createOrReplaceTempView(\"census_blocks\")\n",
    "income_df.createOrReplaceTempView(\"income\")\n",
    "crime_df.createOrReplaceTempView(\"crime\")\n",
    "LA_areas.createOrReplaceTempView(\"LA_areas\")"
   ]
  },
  {
   "cell_type": "code",
   "execution_count": 7,
   "id": "98219c6d-d791-4107-b83c-9430b08eaaed",
   "metadata": {
    "tags": []
   },
   "outputs": [
    {
     "data": {
      "application/vnd.jupyter.widget-view+json": {
       "model_id": "",
       "version_major": 2,
       "version_minor": 0
      },
      "text/plain": [
       "FloatProgress(value=0.0, bar_style='info', description='Progress:', layout=Layout(height='25px', width='50%'),…"
      ]
     },
     "metadata": {},
     "output_type": "display_data"
    },
    {
     "name": "stdout",
     "output_type": "stream",
     "text": [
      "+-------+------------+-------+----+---------+-------------------+--------------------+-------------------+------+------+----------+-------+-------+---------+--------+--------+--------+------+--------+-----------+--------+----------+------------------+------------------+------+--------------------+--------+--------------------+-----------------------+-------------+\n",
      "|   BG10|   BG10FIP10|   BG12|CB10|CEN_FIP13|               CITY|             CITYCOM|               COMM|  CT10|  CT12|    CTCB10|HD_2012|HD_NAME|HOUSING10|LA_FIP10|OBJECTID|POP_2010|PUMA10|SPA_2012|   SPA_NAME|SUP_DIST| SUP_LABEL|       ShapeSTArea|     ShapeSTLength|ZCTA10|            geometry|ZIP Code|           Community|Estimated Median Income|Median Income|\n",
      "+-------+------------+-------+----+---------+-------------------+--------------------+-------------------+------+------+----------+-------+-------+---------+--------+--------+--------+------+--------+-----------+--------+----------+------------------+------------------+------+--------------------+--------+--------------------+-----------------------+-------------+\n",
      "|2970002|297000244000|2970002|2011|    44000|        Los Angeles|Los Angeles - San...|          San Pedro|297000|297000|2970002011|     31| Harbor|       26|   44000|       8|      69| 03767|       8|  South Bay|       4|District 4|217909.87644297967|1980.4912547117679| 90732|POLYGON ((-118.31...|   90732|Los Angeles (San ...|                $84,679|        84679|\n",
      "|4033042|403304219192|4033042|2020|    19192|        Diamond Bar| City of Diamond Bar|        Diamond Bar|403304|403304|4033042020|     54| Pomona|       26|   19192|       9|      79| 03714|       3|San Gabriel|       4|District 4|374256.10070698214|3107.9271811639755| 91789|POLYGON ((-117.84...|   91789|City of Industry,...|                $93,301|        93301|\n",
      "|6707023|670702359514|6707023|3022|    59514|Rancho Palos Verdes|City of Rancho Pa...|Rancho Palos Verdes|670702|670702|6707023022|     31| Harbor|        0|   59514|      10|       0| 03768|       8|  South Bay|       4|District 4| 73443.16322641971|1236.5464043943637| 90275|POLYGON ((-118.31...|   90275|Palos Verdes Esta...|               $118,790|       118790|\n",
      "+-------+------------+-------+----+---------+-------------------+--------------------+-------------------+------+------+----------+-------+-------+---------+--------+--------+--------+------+--------+-----------+--------+----------+------------------+------------------+------+--------------------+--------+--------------------+-----------------------+-------------+\n",
      "only showing top 3 rows"
     ]
    }
   ],
   "source": [
    "inner_join_query = \"SELECT * \\\n",
    "FROM census_blocks cb \\\n",
    "JOIN income i \\\n",
    "ON cb.ZCTA10 = i.`ZIP Code`;\"\n",
    "\n",
    "joined_data_income = spark.sql(inner_join_query)\n",
    "joined_data_income.show(3)"
   ]
  },
  {
   "cell_type": "code",
   "execution_count": 8,
   "id": "14573698-279f-46d8-842a-1d6e00ba3044",
   "metadata": {
    "tags": []
   },
   "outputs": [
    {
     "data": {
      "application/vnd.jupyter.widget-view+json": {
       "model_id": "",
       "version_major": 2,
       "version_minor": 0
      },
      "text/plain": [
       "FloatProgress(value=0.0, bar_style='info', description='Progress:', layout=Layout(height='25px', width='50%'),…"
      ]
     },
     "metadata": {},
     "output_type": "display_data"
    },
    {
     "name": "stdout",
     "output_type": "stream",
     "text": [
      "== Physical Plan ==\n",
      "AdaptiveSparkPlan (11)\n",
      "+- BroadcastHashJoin Inner BuildRight (10)\n",
      "   :- Project (5)\n",
      "   :  +- Filter (4)\n",
      "   :     +- Generate (3)\n",
      "   :        +- Filter (2)\n",
      "   :           +- Scan geojson  (1)\n",
      "   +- BroadcastExchange (9)\n",
      "      +- Project (8)\n",
      "         +- Filter (7)\n",
      "            +- Scan csv  (6)\n",
      "\n",
      "\n",
      "(1) Scan geojson \n",
      "Output [1]: [features#25]\n",
      "Batched: false\n",
      "Location: InMemoryFileIndex [s3://initial-notebook-data-bucket-dblab-905418150721/2010_Census_Blocks.geojson]\n",
      "PushedFilters: [IsNotNull(features)]\n",
      "ReadSchema: struct<features:array<struct<geometry:binary,properties:struct<BG10:string,BG10FIP10:string,BG12:string,CB10:string,CEN_FIP13:string,CITY:string,CITYCOM:string,COMM:string,CT10:string,CT12:string,CTCB10:string,HD_2012:bigint,HD_NAME:string,HOUSING10:bigint,LA_FIP10:string,OBJECTID:bigint,POP_2010:bigint,PUMA10:string,SPA_2012:bigint,SPA_NAME:string,SUP_DIST:string,SUP_LABEL:string,ShapeSTArea:double,ShapeSTLength:double,ZCTA10:string>,type:string>>>\n",
      "\n",
      "(2) Filter\n",
      "Input [1]: [features#25]\n",
      "Condition : ((size(features#25, true) > 0) AND isnotnull(features#25))\n",
      "\n",
      "(3) Generate\n",
      "Input [1]: [features#25]\n",
      "Arguments: explode(features#25), false, [features#33]\n",
      "\n",
      "(4) Filter\n",
      "Input [1]: [features#33]\n",
      "Condition : isnotnull(features#33.properties.ZCTA10)\n",
      "\n",
      "(5) Project\n",
      "Output [26]: [features#33.properties.BG10 AS BG10#42, features#33.properties.BG10FIP10 AS BG10FIP10#43, features#33.properties.BG12 AS BG12#44, features#33.properties.CB10 AS CB10#45, features#33.properties.CEN_FIP13 AS CEN_FIP13#46, features#33.properties.CITY AS CITY#47, features#33.properties.CITYCOM AS CITYCOM#48, features#33.properties.COMM AS COMM#49, features#33.properties.CT10 AS CT10#50, features#33.properties.CT12 AS CT12#51, features#33.properties.CTCB10 AS CTCB10#52, features#33.properties.HD_2012 AS HD_2012#53L, features#33.properties.HD_NAME AS HD_NAME#54, features#33.properties.HOUSING10 AS HOUSING10#55L, features#33.properties.LA_FIP10 AS LA_FIP10#56, features#33.properties.OBJECTID AS OBJECTID#57L, features#33.properties.POP_2010 AS POP_2010#58L, features#33.properties.PUMA10 AS PUMA10#59, features#33.properties.SPA_2012 AS SPA_2012#60L, features#33.properties.SPA_NAME AS SPA_NAME#61, features#33.properties.SUP_DIST AS SUP_DIST#62, features#33.properties.SUP_LABEL AS SUP_LABEL#63, features#33.properties.ShapeSTArea AS ShapeSTArea#64, features#33.properties.ShapeSTLength AS ShapeSTLength#65, features#33.properties.ZCTA10 AS ZCTA10#66, features#33.geometry AS geometry#36]\n",
      "Input [1]: [features#33]\n",
      "\n",
      "(6) Scan csv \n",
      "Output [3]: [Zip Code#233, Community#234, Estimated Median Income#235]\n",
      "Batched: false\n",
      "Location: InMemoryFileIndex [s3://initial-notebook-data-bucket-dblab-905418150721/LA_income_2015.csv]\n",
      "PushedFilters: [IsNotNull(Zip Code)]\n",
      "ReadSchema: struct<Zip Code:int,Community:string,Estimated Median Income:string>\n",
      "\n",
      "(7) Filter\n",
      "Input [3]: [Zip Code#233, Community#234, Estimated Median Income#235]\n",
      "Condition : isnotnull(Zip Code#233)\n",
      "\n",
      "(8) Project\n",
      "Output [4]: [Zip Code#233 AS ZIP Code#245, Community#234, Estimated Median Income#235, cast(regexp_replace(Estimated Median Income#235, [$,], , 1) as int) AS Median Income#239]\n",
      "Input [3]: [Zip Code#233, Community#234, Estimated Median Income#235]\n",
      "\n",
      "(9) BroadcastExchange\n",
      "Input [4]: [ZIP Code#245, Community#234, Estimated Median Income#235, Median Income#239]\n",
      "Arguments: HashedRelationBroadcastMode(List(cast(input[0, int, false] as bigint)),false), [plan_id=366]\n",
      "\n",
      "(10) BroadcastHashJoin\n",
      "Left keys [1]: [cast(ZCTA10#66 as int)]\n",
      "Right keys [1]: [ZIP Code#245]\n",
      "Join type: Inner\n",
      "Join condition: None\n",
      "\n",
      "(11) AdaptiveSparkPlan\n",
      "Output [30]: [BG10#42, BG10FIP10#43, BG12#44, CB10#45, CEN_FIP13#46, CITY#47, CITYCOM#48, COMM#49, CT10#50, CT12#51, CTCB10#52, HD_2012#53L, HD_NAME#54, HOUSING10#55L, LA_FIP10#56, OBJECTID#57L, POP_2010#58L, PUMA10#59, SPA_2012#60L, SPA_NAME#61, SUP_DIST#62, SUP_LABEL#63, ShapeSTArea#64, ShapeSTLength#65, ZCTA10#66, geometry#36, ZIP Code#245, Community#234, Estimated Median Income#235, Median Income#239]\n",
      "Arguments: isFinalPlan=false"
     ]
    }
   ],
   "source": [
    "joined_data_income.explain(mode=\"formatted\")"
   ]
  },
  {
   "cell_type": "code",
   "execution_count": 9,
   "id": "5abb4ca3-73cd-4121-aee7-a746e641b19d",
   "metadata": {
    "tags": []
   },
   "outputs": [
    {
     "data": {
      "application/vnd.jupyter.widget-view+json": {
       "model_id": "",
       "version_major": 2,
       "version_minor": 0
      },
      "text/plain": [
       "FloatProgress(value=0.0, bar_style='info', description='Progress:', layout=Layout(height='25px', width='50%'),…"
      ]
     },
     "metadata": {},
     "output_type": "display_data"
    },
    {
     "name": "stdout",
     "output_type": "stream",
     "text": [
      "Shuffle Hash Join Time: 0.02 seconds\n",
      "\n",
      "+-------+------------+-------+----+---------+--------------+--------------------+--------------+------+------+----------+-------+------------------+---------+--------+--------+--------+------+--------+--------+--------+----------+-----------------+------------------+------+--------------------+--------+--------------------+-----------------------+-------------+\n",
      "|   BG10|   BG10FIP10|   BG12|CB10|CEN_FIP13|          CITY|             CITYCOM|          COMM|  CT10|  CT12|    CTCB10|HD_2012|           HD_NAME|HOUSING10|LA_FIP10|OBJECTID|POP_2010|PUMA10|SPA_2012|SPA_NAME|SUP_DIST| SUP_LABEL|      ShapeSTArea|     ShapeSTLength|ZCTA10|            geometry|ZIP Code|           Community|Estimated Median Income|Median Income|\n",
      "+-------+------------+-------+----+---------+--------------+--------------------+--------------+------+------+----------+-------+------------------+---------+--------+--------+--------+------+--------+--------+--------+----------+-----------------+------------------+------+--------------------+--------+--------------------+-----------------------+-------------+\n",
      "|7003003|700300384410|7003003|3012|    84410|West Hollywood|City of West Holl...|West Hollywood|700300|700300|7003003012|     34|Hollywood-Wilshire|       12|   84410|  108649|      13| 03731|       4|   Metro|       3|District 3|24464.51150950239|  973.046146948634| 90069|POLYGON ((-118.37...|   90069|Los Angeles (Holl...|                $78,979|        78979|\n",
      "|7005013|700501384410|7005013|3018|    84410|West Hollywood|City of West Holl...|West Hollywood|700501|700501|7005013018|     34|Hollywood-Wilshire|        0|   84410|  108450|       0| 03731|       4|   Metro|       3|District 3| 58051.4023497322|1040.9368034957345| 90069|POLYGON ((-118.38...|   90069|Los Angeles (Holl...|                $78,979|        78979|\n",
      "|7004003|700400384410|7004003|3010|    84410|West Hollywood|City of West Holl...|West Hollywood|700400|700400|7004003010|     34|Hollywood-Wilshire|        0|   84410|  107435|       0| 03731|       4|   Metro|       3|District 3| 8259.14162080525| 611.7194185833981| 90069|POLYGON ((-118.38...|   90069|Los Angeles (Holl...|                $78,979|        78979|\n",
      "+-------+------------+-------+----+---------+--------------+--------------------+--------------+------+------+----------+-------+------------------+---------+--------+--------+--------+------+--------+--------+--------+----------+-----------------+------------------+------+--------------------+--------+--------------------+-----------------------+-------------+\n",
      "only showing top 3 rows\n",
      "\n",
      "---------------------------------------------------------------------------------------------------------------------------------\n",
      "---------------------------------------------------------------------------------------------------------------------------------\n",
      "== Physical Plan ==\n",
      "AdaptiveSparkPlan (12)\n",
      "+- ShuffledHashJoin Inner BuildLeft (11)\n",
      "   :- Exchange (6)\n",
      "   :  +- Project (5)\n",
      "   :     +- Filter (4)\n",
      "   :        +- Generate (3)\n",
      "   :           +- Filter (2)\n",
      "   :              +- Scan geojson  (1)\n",
      "   +- Exchange (10)\n",
      "      +- Project (9)\n",
      "         +- Filter (8)\n",
      "            +- Scan csv  (7)\n",
      "\n",
      "\n",
      "(1) Scan geojson \n",
      "Output [1]: [features#25]\n",
      "Batched: false\n",
      "Location: InMemoryFileIndex [s3://initial-notebook-data-bucket-dblab-905418150721/2010_Census_Blocks.geojson]\n",
      "PushedFilters: [IsNotNull(features)]\n",
      "ReadSchema: struct<features:array<struct<geometry:binary,properties:struct<BG10:string,BG10FIP10:string,BG12:string,CB10:string,CEN_FIP13:string,CITY:string,CITYCOM:string,COMM:string,CT10:string,CT12:string,CTCB10:string,HD_2012:bigint,HD_NAME:string,HOUSING10:bigint,LA_FIP10:string,OBJECTID:bigint,POP_2010:bigint,PUMA10:string,SPA_2012:bigint,SPA_NAME:string,SUP_DIST:string,SUP_LABEL:string,ShapeSTArea:double,ShapeSTLength:double,ZCTA10:string>,type:string>>>\n",
      "\n",
      "(2) Filter\n",
      "Input [1]: [features#25]\n",
      "Condition : ((size(features#25, true) > 0) AND isnotnull(features#25))\n",
      "\n",
      "(3) Generate\n",
      "Input [1]: [features#25]\n",
      "Arguments: explode(features#25), false, [features#33]\n",
      "\n",
      "(4) Filter\n",
      "Input [1]: [features#33]\n",
      "Condition : isnotnull(features#33.properties.ZCTA10)\n",
      "\n",
      "(5) Project\n",
      "Output [26]: [features#33.properties.BG10 AS BG10#42, features#33.properties.BG10FIP10 AS BG10FIP10#43, features#33.properties.BG12 AS BG12#44, features#33.properties.CB10 AS CB10#45, features#33.properties.CEN_FIP13 AS CEN_FIP13#46, features#33.properties.CITY AS CITY#47, features#33.properties.CITYCOM AS CITYCOM#48, features#33.properties.COMM AS COMM#49, features#33.properties.CT10 AS CT10#50, features#33.properties.CT12 AS CT12#51, features#33.properties.CTCB10 AS CTCB10#52, features#33.properties.HD_2012 AS HD_2012#53L, features#33.properties.HD_NAME AS HD_NAME#54, features#33.properties.HOUSING10 AS HOUSING10#55L, features#33.properties.LA_FIP10 AS LA_FIP10#56, features#33.properties.OBJECTID AS OBJECTID#57L, features#33.properties.POP_2010 AS POP_2010#58L, features#33.properties.PUMA10 AS PUMA10#59, features#33.properties.SPA_2012 AS SPA_2012#60L, features#33.properties.SPA_NAME AS SPA_NAME#61, features#33.properties.SUP_DIST AS SUP_DIST#62, features#33.properties.SUP_LABEL AS SUP_LABEL#63, features#33.properties.ShapeSTArea AS ShapeSTArea#64, features#33.properties.ShapeSTLength AS ShapeSTLength#65, features#33.properties.ZCTA10 AS ZCTA10#66, features#33.geometry AS geometry#36]\n",
      "Input [1]: [features#33]\n",
      "\n",
      "(6) Exchange\n",
      "Input [26]: [BG10#42, BG10FIP10#43, BG12#44, CB10#45, CEN_FIP13#46, CITY#47, CITYCOM#48, COMM#49, CT10#50, CT12#51, CTCB10#52, HD_2012#53L, HD_NAME#54, HOUSING10#55L, LA_FIP10#56, OBJECTID#57L, POP_2010#58L, PUMA10#59, SPA_2012#60L, SPA_NAME#61, SUP_DIST#62, SUP_LABEL#63, ShapeSTArea#64, ShapeSTLength#65, ZCTA10#66, geometry#36]\n",
      "Arguments: hashpartitioning(cast(ZCTA10#66 as int), 1000), ENSURE_REQUIREMENTS, [plan_id=658]\n",
      "\n",
      "(7) Scan csv \n",
      "Output [3]: [Zip Code#233, Community#234, Estimated Median Income#235]\n",
      "Batched: false\n",
      "Location: InMemoryFileIndex [s3://initial-notebook-data-bucket-dblab-905418150721/LA_income_2015.csv]\n",
      "PushedFilters: [IsNotNull(Zip Code)]\n",
      "ReadSchema: struct<Zip Code:int,Community:string,Estimated Median Income:string>\n",
      "\n",
      "(8) Filter\n",
      "Input [3]: [Zip Code#233, Community#234, Estimated Median Income#235]\n",
      "Condition : isnotnull(Zip Code#233)\n",
      "\n",
      "(9) Project\n",
      "Output [4]: [Zip Code#233 AS ZIP Code#245, Community#234, Estimated Median Income#235, cast(regexp_replace(Estimated Median Income#235, [$,], , 1) as int) AS Median Income#239]\n",
      "Input [3]: [Zip Code#233, Community#234, Estimated Median Income#235]\n",
      "\n",
      "(10) Exchange\n",
      "Input [4]: [ZIP Code#245, Community#234, Estimated Median Income#235, Median Income#239]\n",
      "Arguments: hashpartitioning(ZIP Code#245, 1000), ENSURE_REQUIREMENTS, [plan_id=659]\n",
      "\n",
      "(11) ShuffledHashJoin\n",
      "Left keys [1]: [cast(ZCTA10#66 as int)]\n",
      "Right keys [1]: [ZIP Code#245]\n",
      "Join type: Inner\n",
      "Join condition: None\n",
      "\n",
      "(12) AdaptiveSparkPlan\n",
      "Output [30]: [BG10#42, BG10FIP10#43, BG12#44, CB10#45, CEN_FIP13#46, CITY#47, CITYCOM#48, COMM#49, CT10#50, CT12#51, CTCB10#52, HD_2012#53L, HD_NAME#54, HOUSING10#55L, LA_FIP10#56, OBJECTID#57L, POP_2010#58L, PUMA10#59, SPA_2012#60L, SPA_NAME#61, SUP_DIST#62, SUP_LABEL#63, ShapeSTArea#64, ShapeSTLength#65, ZCTA10#66, geometry#36, ZIP Code#245, Community#234, Estimated Median Income#235, Median Income#239]\n",
      "Arguments: isFinalPlan=false"
     ]
    }
   ],
   "source": [
    "# SHUFFLE_HASH join\n",
    "shuffle_hash_join_query = \"\"\"\n",
    "    SELECT /*+ SHUFFLE_HASH(cb) */ *\n",
    "    FROM census_blocks cb\n",
    "    JOIN income i\n",
    "    ON cb.ZCTA10 = i.`ZIP Code`\n",
    "\"\"\"\n",
    "start_time = time.time()\n",
    "joined_data_income = spark.sql(shuffle_hash_join_query)\n",
    "print(f\"Shuffle Hash Join Time: {time.time() - start_time:.2f} seconds\\n\")\n",
    "joined_data_income.show(3)\n",
    "print(\"---------------------------------------------------------------------------------------------------------------------------------\")\n",
    "print(\"---------------------------------------------------------------------------------------------------------------------------------\")\n",
    "joined_data_income.explain(mode=\"formatted\")"
   ]
  },
  {
   "cell_type": "code",
   "execution_count": 10,
   "id": "6f1554bf-51e1-4cba-bbc2-36ed5adb1184",
   "metadata": {
    "tags": []
   },
   "outputs": [
    {
     "data": {
      "application/vnd.jupyter.widget-view+json": {
       "model_id": "",
       "version_major": 2,
       "version_minor": 0
      },
      "text/plain": [
       "FloatProgress(value=0.0, bar_style='info', description='Progress:', layout=Layout(height='25px', width='50%'),…"
      ]
     },
     "metadata": {},
     "output_type": "display_data"
    },
    {
     "name": "stdout",
     "output_type": "stream",
     "text": [
      "Broadcast Join Time: 0.02 seconds\n",
      "\n",
      "+-------+------------+-------+----+---------+--------------+--------------------+------------------+------+------+----------+-------+-------+---------+--------+--------+--------+------+--------+--------+--------+----------+------------------+------------------+------+--------------------+--------+--------------------+-----------------------+-------------+\n",
      "|   BG10|   BG10FIP10|   BG12|CB10|CEN_FIP13|          CITY|             CITYCOM|              COMM|  CT10|  CT12|    CTCB10|HD_2012|HD_NAME|HOUSING10|LA_FIP10|OBJECTID|POP_2010|PUMA10|SPA_2012|SPA_NAME|SUP_DIST| SUP_LABEL|       ShapeSTArea|     ShapeSTLength|ZCTA10|            geometry|ZIP Code|           Community|Estimated Median Income|Median Income|\n",
      "+-------+------------+-------+----+---------+--------------+--------------------+------------------+------+------+----------+-------+-------+---------+--------+--------+--------+------+--------+--------+--------+----------+------------------+------------------+------+--------------------+--------+--------------------+-----------------------+-------------+\n",
      "|2400103|240010344000|2400103|3002|    44000|   Los Angeles|Los Angeles - Gre...|     Green Meadows|240010|240010|2400103002|     69|  South|       13|   44000|  109215|      44| 03751|       6|   South|       2|District 2|115467.39049432486|1675.0296622448288| 90001|POLYGON ((-118.25...|   90001|Los Angeles (Sout...|                $33,887|        33887|\n",
      "|5351012|535101299037|5351012|2009|    24477|Unincorporated|Unincorporated - ...|Florence-Firestone|535101|535101|5351012009|     69|  South|        7|   99037|  107441|      34| 03742|       6|   South|       2|District 2| 43403.81404420698| 874.3274756861051| 90001|POLYGON ((-118.24...|   90001|Los Angeles (Sout...|                $33,887|        33887|\n",
      "|5351012|535101299037|5351012|2002|    24477|Unincorporated|Unincorporated - ...|Florence-Firestone|535101|535101|5351012002|     69|  South|       12|   99037|  107129|      52| 03742|       6|   South|       2|District 2| 42731.80164384558| 873.2004885191445| 90001|POLYGON ((-118.24...|   90001|Los Angeles (Sout...|                $33,887|        33887|\n",
      "+-------+------------+-------+----+---------+--------------+--------------------+------------------+------+------+----------+-------+-------+---------+--------+--------+--------+------+--------+--------+--------+----------+------------------+------------------+------+--------------------+--------+--------------------+-----------------------+-------------+\n",
      "only showing top 3 rows\n",
      "\n",
      "---------------------------------------------------------------------------------------------------------------------------------\n",
      "---------------------------------------------------------------------------------------------------------------------------------\n",
      "== Physical Plan ==\n",
      "AdaptiveSparkPlan (11)\n",
      "+- BroadcastHashJoin Inner BuildLeft (10)\n",
      "   :- BroadcastExchange (6)\n",
      "   :  +- Project (5)\n",
      "   :     +- Filter (4)\n",
      "   :        +- Generate (3)\n",
      "   :           +- Filter (2)\n",
      "   :              +- Scan geojson  (1)\n",
      "   +- Project (9)\n",
      "      +- Filter (8)\n",
      "         +- Scan csv  (7)\n",
      "\n",
      "\n",
      "(1) Scan geojson \n",
      "Output [1]: [features#25]\n",
      "Batched: false\n",
      "Location: InMemoryFileIndex [s3://initial-notebook-data-bucket-dblab-905418150721/2010_Census_Blocks.geojson]\n",
      "PushedFilters: [IsNotNull(features)]\n",
      "ReadSchema: struct<features:array<struct<geometry:binary,properties:struct<BG10:string,BG10FIP10:string,BG12:string,CB10:string,CEN_FIP13:string,CITY:string,CITYCOM:string,COMM:string,CT10:string,CT12:string,CTCB10:string,HD_2012:bigint,HD_NAME:string,HOUSING10:bigint,LA_FIP10:string,OBJECTID:bigint,POP_2010:bigint,PUMA10:string,SPA_2012:bigint,SPA_NAME:string,SUP_DIST:string,SUP_LABEL:string,ShapeSTArea:double,ShapeSTLength:double,ZCTA10:string>,type:string>>>\n",
      "\n",
      "(2) Filter\n",
      "Input [1]: [features#25]\n",
      "Condition : ((size(features#25, true) > 0) AND isnotnull(features#25))\n",
      "\n",
      "(3) Generate\n",
      "Input [1]: [features#25]\n",
      "Arguments: explode(features#25), false, [features#33]\n",
      "\n",
      "(4) Filter\n",
      "Input [1]: [features#33]\n",
      "Condition : isnotnull(features#33.properties.ZCTA10)\n",
      "\n",
      "(5) Project\n",
      "Output [26]: [features#33.properties.BG10 AS BG10#42, features#33.properties.BG10FIP10 AS BG10FIP10#43, features#33.properties.BG12 AS BG12#44, features#33.properties.CB10 AS CB10#45, features#33.properties.CEN_FIP13 AS CEN_FIP13#46, features#33.properties.CITY AS CITY#47, features#33.properties.CITYCOM AS CITYCOM#48, features#33.properties.COMM AS COMM#49, features#33.properties.CT10 AS CT10#50, features#33.properties.CT12 AS CT12#51, features#33.properties.CTCB10 AS CTCB10#52, features#33.properties.HD_2012 AS HD_2012#53L, features#33.properties.HD_NAME AS HD_NAME#54, features#33.properties.HOUSING10 AS HOUSING10#55L, features#33.properties.LA_FIP10 AS LA_FIP10#56, features#33.properties.OBJECTID AS OBJECTID#57L, features#33.properties.POP_2010 AS POP_2010#58L, features#33.properties.PUMA10 AS PUMA10#59, features#33.properties.SPA_2012 AS SPA_2012#60L, features#33.properties.SPA_NAME AS SPA_NAME#61, features#33.properties.SUP_DIST AS SUP_DIST#62, features#33.properties.SUP_LABEL AS SUP_LABEL#63, features#33.properties.ShapeSTArea AS ShapeSTArea#64, features#33.properties.ShapeSTLength AS ShapeSTLength#65, features#33.properties.ZCTA10 AS ZCTA10#66, features#33.geometry AS geometry#36]\n",
      "Input [1]: [features#33]\n",
      "\n",
      "(6) BroadcastExchange\n",
      "Input [26]: [BG10#42, BG10FIP10#43, BG12#44, CB10#45, CEN_FIP13#46, CITY#47, CITYCOM#48, COMM#49, CT10#50, CT12#51, CTCB10#52, HD_2012#53L, HD_NAME#54, HOUSING10#55L, LA_FIP10#56, OBJECTID#57L, POP_2010#58L, PUMA10#59, SPA_2012#60L, SPA_NAME#61, SUP_DIST#62, SUP_LABEL#63, ShapeSTArea#64, ShapeSTLength#65, ZCTA10#66, geometry#36]\n",
      "Arguments: HashedRelationBroadcastMode(List(cast(cast(input[24, string, true] as int) as bigint)),false), [plan_id=883]\n",
      "\n",
      "(7) Scan csv \n",
      "Output [3]: [Zip Code#233, Community#234, Estimated Median Income#235]\n",
      "Batched: false\n",
      "Location: InMemoryFileIndex [s3://initial-notebook-data-bucket-dblab-905418150721/LA_income_2015.csv]\n",
      "PushedFilters: [IsNotNull(Zip Code)]\n",
      "ReadSchema: struct<Zip Code:int,Community:string,Estimated Median Income:string>\n",
      "\n",
      "(8) Filter\n",
      "Input [3]: [Zip Code#233, Community#234, Estimated Median Income#235]\n",
      "Condition : isnotnull(Zip Code#233)\n",
      "\n",
      "(9) Project\n",
      "Output [4]: [Zip Code#233 AS ZIP Code#245, Community#234, Estimated Median Income#235, cast(regexp_replace(Estimated Median Income#235, [$,], , 1) as int) AS Median Income#239]\n",
      "Input [3]: [Zip Code#233, Community#234, Estimated Median Income#235]\n",
      "\n",
      "(10) BroadcastHashJoin\n",
      "Left keys [1]: [cast(ZCTA10#66 as int)]\n",
      "Right keys [1]: [ZIP Code#245]\n",
      "Join type: Inner\n",
      "Join condition: None\n",
      "\n",
      "(11) AdaptiveSparkPlan\n",
      "Output [30]: [BG10#42, BG10FIP10#43, BG12#44, CB10#45, CEN_FIP13#46, CITY#47, CITYCOM#48, COMM#49, CT10#50, CT12#51, CTCB10#52, HD_2012#53L, HD_NAME#54, HOUSING10#55L, LA_FIP10#56, OBJECTID#57L, POP_2010#58L, PUMA10#59, SPA_2012#60L, SPA_NAME#61, SUP_DIST#62, SUP_LABEL#63, ShapeSTArea#64, ShapeSTLength#65, ZCTA10#66, geometry#36, ZIP Code#245, Community#234, Estimated Median Income#235, Median Income#239]\n",
      "Arguments: isFinalPlan=false"
     ]
    }
   ],
   "source": [
    "# BROADCAST join\n",
    "broadcast_join_query = \"\"\"\n",
    "    SELECT /*+ BROADCAST(cb) */ *\n",
    "    FROM census_blocks cb\n",
    "    JOIN income i\n",
    "    ON cb.ZCTA10 = i.`ZIP Code`\n",
    "\"\"\"\n",
    "start_time = time.time()\n",
    "joined_data_income = spark.sql(broadcast_join_query)\n",
    "print(f\"Broadcast Join Time: {time.time() - start_time:.2f} seconds\\n\")\n",
    "joined_data_income.show(3)\n",
    "print(\"---------------------------------------------------------------------------------------------------------------------------------\")\n",
    "print(\"---------------------------------------------------------------------------------------------------------------------------------\")\n",
    "joined_data_income.explain(mode=\"formatted\")"
   ]
  },
  {
   "cell_type": "code",
   "execution_count": 11,
   "id": "43c967bb-b5c3-4b3b-a74a-e2200ca7a95d",
   "metadata": {
    "tags": []
   },
   "outputs": [
    {
     "data": {
      "application/vnd.jupyter.widget-view+json": {
       "model_id": "",
       "version_major": 2,
       "version_minor": 0
      },
      "text/plain": [
       "FloatProgress(value=0.0, bar_style='info', description='Progress:', layout=Layout(height='25px', width='50%'),…"
      ]
     },
     "metadata": {},
     "output_type": "display_data"
    },
    {
     "name": "stdout",
     "output_type": "stream",
     "text": [
      "Merge Join Time: 0.03 seconds\n",
      "\n",
      "+-------+------------+-------+----+---------+--------------+--------------------+--------------+------+------+----------+-------+------------------+---------+--------+--------+--------+------+--------+--------+--------+----------+------------------+------------------+------+--------------------+--------+--------------------+-----------------------+-------------+\n",
      "|   BG10|   BG10FIP10|   BG12|CB10|CEN_FIP13|          CITY|             CITYCOM|          COMM|  CT10|  CT12|    CTCB10|HD_2012|           HD_NAME|HOUSING10|LA_FIP10|OBJECTID|POP_2010|PUMA10|SPA_2012|SPA_NAME|SUP_DIST| SUP_LABEL|       ShapeSTArea|     ShapeSTLength|ZCTA10|            geometry|ZIP Code|           Community|Estimated Median Income|Median Income|\n",
      "+-------+------------+-------+----+---------+--------------+--------------------+--------------+------+------+----------+-------+------------------+---------+--------+--------+--------+------+--------+--------+--------+----------+------------------+------------------+------+--------------------+--------+--------------------+-----------------------+-------------+\n",
      "|1944012|194401244000|1944012|2012|    44000|   Los Angeles|Los Angeles - Mel...|       Melrose|194401|194401|1944012012|     34|Hollywood-Wilshire|       25|   44000|    5657|      55| 03731|       4|   Metro|       3|District 3|199298.92594309573|1872.9241682808906| 90046|POLYGON ((-118.36...|   90046|Los Angeles (Holl...|                $57,941|        57941|\n",
      "|7001022|700102284410|7001022|2015|    84410|West Hollywood|City of West Holl...|West Hollywood|700102|700102|7001022015|     34|Hollywood-Wilshire|       72|   84410|    5690|      92| 03731|       4|   Metro|       3|District 3|  74091.4507910972|1407.8007174140132| 90046|POLYGON ((-118.35...|   90046|Los Angeles (Holl...|                $57,941|        57941|\n",
      "|1944012|194401244000|1944012|2007|    44000|   Los Angeles|Los Angeles - Mel...|       Melrose|194401|194401|1944012007|     34|Hollywood-Wilshire|       18|   44000|    5691|      27| 03731|       4|   Metro|       3|District 3| 186813.1143305623|1804.7989112239516| 90046|POLYGON ((-118.36...|   90046|Los Angeles (Holl...|                $57,941|        57941|\n",
      "+-------+------------+-------+----+---------+--------------+--------------------+--------------+------+------+----------+-------+------------------+---------+--------+--------+--------+------+--------+--------+--------+----------+------------------+------------------+------+--------------------+--------+--------------------+-----------------------+-------------+\n",
      "only showing top 3 rows\n",
      "\n",
      "---------------------------------------------------------------------------------------------------------------------------------\n",
      "---------------------------------------------------------------------------------------------------------------------------------\n",
      "== Physical Plan ==\n",
      "AdaptiveSparkPlan (14)\n",
      "+- SortMergeJoin Inner (13)\n",
      "   :- Sort (7)\n",
      "   :  +- Exchange (6)\n",
      "   :     +- Project (5)\n",
      "   :        +- Filter (4)\n",
      "   :           +- Generate (3)\n",
      "   :              +- Filter (2)\n",
      "   :                 +- Scan geojson  (1)\n",
      "   +- Sort (12)\n",
      "      +- Exchange (11)\n",
      "         +- Project (10)\n",
      "            +- Filter (9)\n",
      "               +- Scan csv  (8)\n",
      "\n",
      "\n",
      "(1) Scan geojson \n",
      "Output [1]: [features#25]\n",
      "Batched: false\n",
      "Location: InMemoryFileIndex [s3://initial-notebook-data-bucket-dblab-905418150721/2010_Census_Blocks.geojson]\n",
      "PushedFilters: [IsNotNull(features)]\n",
      "ReadSchema: struct<features:array<struct<geometry:binary,properties:struct<BG10:string,BG10FIP10:string,BG12:string,CB10:string,CEN_FIP13:string,CITY:string,CITYCOM:string,COMM:string,CT10:string,CT12:string,CTCB10:string,HD_2012:bigint,HD_NAME:string,HOUSING10:bigint,LA_FIP10:string,OBJECTID:bigint,POP_2010:bigint,PUMA10:string,SPA_2012:bigint,SPA_NAME:string,SUP_DIST:string,SUP_LABEL:string,ShapeSTArea:double,ShapeSTLength:double,ZCTA10:string>,type:string>>>\n",
      "\n",
      "(2) Filter\n",
      "Input [1]: [features#25]\n",
      "Condition : ((size(features#25, true) > 0) AND isnotnull(features#25))\n",
      "\n",
      "(3) Generate\n",
      "Input [1]: [features#25]\n",
      "Arguments: explode(features#25), false, [features#33]\n",
      "\n",
      "(4) Filter\n",
      "Input [1]: [features#33]\n",
      "Condition : isnotnull(features#33.properties.ZCTA10)\n",
      "\n",
      "(5) Project\n",
      "Output [26]: [features#33.properties.BG10 AS BG10#42, features#33.properties.BG10FIP10 AS BG10FIP10#43, features#33.properties.BG12 AS BG12#44, features#33.properties.CB10 AS CB10#45, features#33.properties.CEN_FIP13 AS CEN_FIP13#46, features#33.properties.CITY AS CITY#47, features#33.properties.CITYCOM AS CITYCOM#48, features#33.properties.COMM AS COMM#49, features#33.properties.CT10 AS CT10#50, features#33.properties.CT12 AS CT12#51, features#33.properties.CTCB10 AS CTCB10#52, features#33.properties.HD_2012 AS HD_2012#53L, features#33.properties.HD_NAME AS HD_NAME#54, features#33.properties.HOUSING10 AS HOUSING10#55L, features#33.properties.LA_FIP10 AS LA_FIP10#56, features#33.properties.OBJECTID AS OBJECTID#57L, features#33.properties.POP_2010 AS POP_2010#58L, features#33.properties.PUMA10 AS PUMA10#59, features#33.properties.SPA_2012 AS SPA_2012#60L, features#33.properties.SPA_NAME AS SPA_NAME#61, features#33.properties.SUP_DIST AS SUP_DIST#62, features#33.properties.SUP_LABEL AS SUP_LABEL#63, features#33.properties.ShapeSTArea AS ShapeSTArea#64, features#33.properties.ShapeSTLength AS ShapeSTLength#65, features#33.properties.ZCTA10 AS ZCTA10#66, features#33.geometry AS geometry#36]\n",
      "Input [1]: [features#33]\n",
      "\n",
      "(6) Exchange\n",
      "Input [26]: [BG10#42, BG10FIP10#43, BG12#44, CB10#45, CEN_FIP13#46, CITY#47, CITYCOM#48, COMM#49, CT10#50, CT12#51, CTCB10#52, HD_2012#53L, HD_NAME#54, HOUSING10#55L, LA_FIP10#56, OBJECTID#57L, POP_2010#58L, PUMA10#59, SPA_2012#60L, SPA_NAME#61, SUP_DIST#62, SUP_LABEL#63, ShapeSTArea#64, ShapeSTLength#65, ZCTA10#66, geometry#36]\n",
      "Arguments: hashpartitioning(cast(ZCTA10#66 as int), 1000), ENSURE_REQUIREMENTS, [plan_id=1194]\n",
      "\n",
      "(7) Sort\n",
      "Input [26]: [BG10#42, BG10FIP10#43, BG12#44, CB10#45, CEN_FIP13#46, CITY#47, CITYCOM#48, COMM#49, CT10#50, CT12#51, CTCB10#52, HD_2012#53L, HD_NAME#54, HOUSING10#55L, LA_FIP10#56, OBJECTID#57L, POP_2010#58L, PUMA10#59, SPA_2012#60L, SPA_NAME#61, SUP_DIST#62, SUP_LABEL#63, ShapeSTArea#64, ShapeSTLength#65, ZCTA10#66, geometry#36]\n",
      "Arguments: [cast(ZCTA10#66 as int) ASC NULLS FIRST], false, 0\n",
      "\n",
      "(8) Scan csv \n",
      "Output [3]: [Zip Code#233, Community#234, Estimated Median Income#235]\n",
      "Batched: false\n",
      "Location: InMemoryFileIndex [s3://initial-notebook-data-bucket-dblab-905418150721/LA_income_2015.csv]\n",
      "PushedFilters: [IsNotNull(Zip Code)]\n",
      "ReadSchema: struct<Zip Code:int,Community:string,Estimated Median Income:string>\n",
      "\n",
      "(9) Filter\n",
      "Input [3]: [Zip Code#233, Community#234, Estimated Median Income#235]\n",
      "Condition : isnotnull(Zip Code#233)\n",
      "\n",
      "(10) Project\n",
      "Output [4]: [Zip Code#233 AS ZIP Code#245, Community#234, Estimated Median Income#235, cast(regexp_replace(Estimated Median Income#235, [$,], , 1) as int) AS Median Income#239]\n",
      "Input [3]: [Zip Code#233, Community#234, Estimated Median Income#235]\n",
      "\n",
      "(11) Exchange\n",
      "Input [4]: [ZIP Code#245, Community#234, Estimated Median Income#235, Median Income#239]\n",
      "Arguments: hashpartitioning(ZIP Code#245, 1000), ENSURE_REQUIREMENTS, [plan_id=1195]\n",
      "\n",
      "(12) Sort\n",
      "Input [4]: [ZIP Code#245, Community#234, Estimated Median Income#235, Median Income#239]\n",
      "Arguments: [ZIP Code#245 ASC NULLS FIRST], false, 0\n",
      "\n",
      "(13) SortMergeJoin\n",
      "Left keys [1]: [cast(ZCTA10#66 as int)]\n",
      "Right keys [1]: [ZIP Code#245]\n",
      "Join type: Inner\n",
      "Join condition: None\n",
      "\n",
      "(14) AdaptiveSparkPlan\n",
      "Output [30]: [BG10#42, BG10FIP10#43, BG12#44, CB10#45, CEN_FIP13#46, CITY#47, CITYCOM#48, COMM#49, CT10#50, CT12#51, CTCB10#52, HD_2012#53L, HD_NAME#54, HOUSING10#55L, LA_FIP10#56, OBJECTID#57L, POP_2010#58L, PUMA10#59, SPA_2012#60L, SPA_NAME#61, SUP_DIST#62, SUP_LABEL#63, ShapeSTArea#64, ShapeSTLength#65, ZCTA10#66, geometry#36, ZIP Code#245, Community#234, Estimated Median Income#235, Median Income#239]\n",
      "Arguments: isFinalPlan=false"
     ]
    }
   ],
   "source": [
    "# MERGE join\n",
    "merge_join_query = \"\"\"\n",
    "    SELECT /*+ MERGE(cb, i) */ *\n",
    "    FROM census_blocks cb\n",
    "    JOIN income i\n",
    "    ON cb.ZCTA10 = i.`ZIP Code`\n",
    "\"\"\"\n",
    "start_time = time.time()\n",
    "joined_data_income = spark.sql(merge_join_query)\n",
    "print(f\"Merge Join Time: {time.time() - start_time:.2f} seconds\\n\")\n",
    "joined_data_income.show(3)\n",
    "print(\"---------------------------------------------------------------------------------------------------------------------------------\")\n",
    "print(\"---------------------------------------------------------------------------------------------------------------------------------\")\n",
    "joined_data_income.explain(mode=\"formatted\")"
   ]
  },
  {
   "cell_type": "code",
   "execution_count": 12,
   "id": "374e0395-669e-438c-8aa8-c4b6c2b1d666",
   "metadata": {
    "tags": []
   },
   "outputs": [
    {
     "data": {
      "application/vnd.jupyter.widget-view+json": {
       "model_id": "",
       "version_major": 2,
       "version_minor": 0
      },
      "text/plain": [
       "FloatProgress(value=0.0, bar_style='info', description='Progress:', layout=Layout(height='25px', width='50%'),…"
      ]
     },
     "metadata": {},
     "output_type": "display_data"
    },
    {
     "name": "stdout",
     "output_type": "stream",
     "text": [
      "Shuffle Replicate NL Join Time: 0.02 seconds\n",
      "\n",
      "+-------+------------+-------+----+---------+-------------------+--------------------+-------------------+------+------+----------+-------+-------+---------+--------+--------+--------+------+--------+-----------+--------+----------+------------------+------------------+------+--------------------+--------+--------------------+-----------------------+-------------+\n",
      "|   BG10|   BG10FIP10|   BG12|CB10|CEN_FIP13|               CITY|             CITYCOM|               COMM|  CT10|  CT12|    CTCB10|HD_2012|HD_NAME|HOUSING10|LA_FIP10|OBJECTID|POP_2010|PUMA10|SPA_2012|   SPA_NAME|SUP_DIST| SUP_LABEL|       ShapeSTArea|     ShapeSTLength|ZCTA10|            geometry|ZIP Code|           Community|Estimated Median Income|Median Income|\n",
      "+-------+------------+-------+----+---------+-------------------+--------------------+-------------------+------+------+----------+-------+-------+---------+--------+--------+--------+------+--------+-----------+--------+----------+------------------+------------------+------+--------------------+--------+--------------------+-----------------------+-------------+\n",
      "|2970002|297000244000|2970002|2011|    44000|        Los Angeles|Los Angeles - San...|          San Pedro|297000|297000|2970002011|     31| Harbor|       26|   44000|       8|      69| 03767|       8|  South Bay|       4|District 4|217909.87644297967|1980.4912547117679| 90732|POLYGON ((-118.31...|   90732|Los Angeles (San ...|                $84,679|        84679|\n",
      "|4033042|403304219192|4033042|2020|    19192|        Diamond Bar| City of Diamond Bar|        Diamond Bar|403304|403304|4033042020|     54| Pomona|       26|   19192|       9|      79| 03714|       3|San Gabriel|       4|District 4|374256.10070698214|3107.9271811639755| 91789|POLYGON ((-117.84...|   91789|City of Industry,...|                $93,301|        93301|\n",
      "|6707023|670702359514|6707023|3022|    59514|Rancho Palos Verdes|City of Rancho Pa...|Rancho Palos Verdes|670702|670702|6707023022|     31| Harbor|        0|   59514|      10|       0| 03768|       8|  South Bay|       4|District 4| 73443.16322641971|1236.5464043943637| 90275|POLYGON ((-118.31...|   90275|Palos Verdes Esta...|               $118,790|       118790|\n",
      "+-------+------------+-------+----+---------+-------------------+--------------------+-------------------+------+------+----------+-------+-------+---------+--------+--------+--------+------+--------+-----------+--------+----------+------------------+------------------+------+--------------------+--------+--------------------+-----------------------+-------------+\n",
      "only showing top 3 rows\n",
      "\n",
      "---------------------------------------------------------------------------------------------------------------------------------\n",
      "---------------------------------------------------------------------------------------------------------------------------------\n",
      "== Physical Plan ==\n",
      "CartesianProduct Inner (9)\n",
      ":- * Project (5)\n",
      ":  +- * Filter (4)\n",
      ":     +- * Generate (3)\n",
      ":        +- * Filter (2)\n",
      ":           +- Scan geojson  (1)\n",
      "+- * Project (8)\n",
      "   +- * Filter (7)\n",
      "      +- Scan csv  (6)\n",
      "\n",
      "\n",
      "(1) Scan geojson \n",
      "Output [1]: [features#25]\n",
      "Batched: false\n",
      "Location: InMemoryFileIndex [s3://initial-notebook-data-bucket-dblab-905418150721/2010_Census_Blocks.geojson]\n",
      "PushedFilters: [IsNotNull(features)]\n",
      "ReadSchema: struct<features:array<struct<geometry:binary,properties:struct<BG10:string,BG10FIP10:string,BG12:string,CB10:string,CEN_FIP13:string,CITY:string,CITYCOM:string,COMM:string,CT10:string,CT12:string,CTCB10:string,HD_2012:bigint,HD_NAME:string,HOUSING10:bigint,LA_FIP10:string,OBJECTID:bigint,POP_2010:bigint,PUMA10:string,SPA_2012:bigint,SPA_NAME:string,SUP_DIST:string,SUP_LABEL:string,ShapeSTArea:double,ShapeSTLength:double,ZCTA10:string>,type:string>>>\n",
      "\n",
      "(2) Filter [codegen id : 1]\n",
      "Input [1]: [features#25]\n",
      "Condition : ((size(features#25, true) > 0) AND isnotnull(features#25))\n",
      "\n",
      "(3) Generate [codegen id : 1]\n",
      "Input [1]: [features#25]\n",
      "Arguments: explode(features#25), false, [features#33]\n",
      "\n",
      "(4) Filter [codegen id : 1]\n",
      "Input [1]: [features#33]\n",
      "Condition : isnotnull(features#33.properties.ZCTA10)\n",
      "\n",
      "(5) Project [codegen id : 1]\n",
      "Output [26]: [features#33.properties.BG10 AS BG10#42, features#33.properties.BG10FIP10 AS BG10FIP10#43, features#33.properties.BG12 AS BG12#44, features#33.properties.CB10 AS CB10#45, features#33.properties.CEN_FIP13 AS CEN_FIP13#46, features#33.properties.CITY AS CITY#47, features#33.properties.CITYCOM AS CITYCOM#48, features#33.properties.COMM AS COMM#49, features#33.properties.CT10 AS CT10#50, features#33.properties.CT12 AS CT12#51, features#33.properties.CTCB10 AS CTCB10#52, features#33.properties.HD_2012 AS HD_2012#53L, features#33.properties.HD_NAME AS HD_NAME#54, features#33.properties.HOUSING10 AS HOUSING10#55L, features#33.properties.LA_FIP10 AS LA_FIP10#56, features#33.properties.OBJECTID AS OBJECTID#57L, features#33.properties.POP_2010 AS POP_2010#58L, features#33.properties.PUMA10 AS PUMA10#59, features#33.properties.SPA_2012 AS SPA_2012#60L, features#33.properties.SPA_NAME AS SPA_NAME#61, features#33.properties.SUP_DIST AS SUP_DIST#62, features#33.properties.SUP_LABEL AS SUP_LABEL#63, features#33.properties.ShapeSTArea AS ShapeSTArea#64, features#33.properties.ShapeSTLength AS ShapeSTLength#65, features#33.properties.ZCTA10 AS ZCTA10#66, features#33.geometry AS geometry#36]\n",
      "Input [1]: [features#33]\n",
      "\n",
      "(6) Scan csv \n",
      "Output [3]: [Zip Code#233, Community#234, Estimated Median Income#235]\n",
      "Batched: false\n",
      "Location: InMemoryFileIndex [s3://initial-notebook-data-bucket-dblab-905418150721/LA_income_2015.csv]\n",
      "PushedFilters: [IsNotNull(Zip Code)]\n",
      "ReadSchema: struct<Zip Code:int,Community:string,Estimated Median Income:string>\n",
      "\n",
      "(7) Filter [codegen id : 2]\n",
      "Input [3]: [Zip Code#233, Community#234, Estimated Median Income#235]\n",
      "Condition : isnotnull(Zip Code#233)\n",
      "\n",
      "(8) Project [codegen id : 2]\n",
      "Output [4]: [Zip Code#233 AS ZIP Code#245, Community#234, Estimated Median Income#235, cast(regexp_replace(Estimated Median Income#235, [$,], , 1) as int) AS Median Income#239]\n",
      "Input [3]: [Zip Code#233, Community#234, Estimated Median Income#235]\n",
      "\n",
      "(9) CartesianProduct\n",
      "Join type: Inner\n",
      "Join condition: (cast(ZCTA10#66 as int) = ZIP Code#245)"
     ]
    }
   ],
   "source": [
    "# SHUFFLE_REPLICATE_NL join\n",
    "shuffle_replicate_nl_join_query = \"\"\"\n",
    "    SELECT /*+ SHUFFLE_REPLICATE_NL(cb) */ *\n",
    "    FROM census_blocks cb\n",
    "    JOIN income i\n",
    "    ON cb.ZCTA10 = i.`ZIP Code`\n",
    "\"\"\"\n",
    "start_time = time.time()\n",
    "joined_data_income = spark.sql(shuffle_replicate_nl_join_query)\n",
    "print(f\"Shuffle Replicate NL Join Time: {time.time() - start_time:.2f} seconds\\n\")\n",
    "joined_data_income.show(3)\n",
    "print(\"---------------------------------------------------------------------------------------------------------------------------------\")\n",
    "print(\"---------------------------------------------------------------------------------------------------------------------------------\")\n",
    "joined_data_income.explain(mode=\"formatted\")"
   ]
  },
  {
   "cell_type": "code",
   "execution_count": 13,
   "id": "a12b3c51-62ae-4181-892c-6e157f03f603",
   "metadata": {
    "tags": []
   },
   "outputs": [
    {
     "data": {
      "application/vnd.jupyter.widget-view+json": {
       "model_id": "",
       "version_major": 2,
       "version_minor": 0
      },
      "text/plain": [
       "FloatProgress(value=0.0, bar_style='info', description='Progress:', layout=Layout(height='25px', width='50%'),…"
      ]
     },
     "metadata": {},
     "output_type": "display_data"
    },
    {
     "name": "stdout",
     "output_type": "stream",
     "text": [
      "+--------------------+--------------+---------------+------------------+\n",
      "|                COMM|Total_POP_2010|Total_HOUSING10| Avg_Median_Income|\n",
      "+--------------------+--------------+---------------+------------------+\n",
      "|         Culver City|         38883|          17491| 74486.27088948787|\n",
      "|     North Lancaster|          1101|            559| 47855.70053475936|\n",
      "|Rosewood/East Gar...|          1164|            354|           53306.0|\n",
      "|East Rancho Domin...|         15135|           3186|           41960.0|\n",
      "|      Toluca Terrace|          1301|            541|           48499.0|\n",
      "|        Elysian Park|          5267|           1993|  35151.9801980198|\n",
      "|            Longwood|          4210|           1474|           38330.0|\n",
      "|         Pico Rivera|         62942|          17109|56332.066584463624|\n",
      "|              Malibu|         12645|           6864|123604.49367088608|\n",
      "|       Green Meadows|         19821|           5204|30573.460674157304|\n",
      "|    Hacienda Heights|         53594|          16524| 77551.20532319392|\n",
      "|    Cadillac-Corning|          6665|           2215|           62425.2|\n",
      "|  West Puente Valley|          9657|           2064|           58641.0|\n",
      "|          Montebello|         62500|          19768|  45806.8485237484|\n",
      "|            Mid-city|         14339|           6692|           46571.0|\n",
      "|          Lake Manor|          1600|            765| 76115.32558139534|\n",
      "|    Hawaiian Gardens|         14254|           3703| 37915.65546218488|\n",
      "|     Lincoln Heights|         31144|           9316| 37990.15120274914|\n",
      "|    Westlake Village|          8270|           3384|104558.07853403142|\n",
      "|            Van Nuys|         86019|          29170|43827.914666666664|\n",
      "+--------------------+--------------+---------------+------------------+\n",
      "only showing top 20 rows"
     ]
    }
   ],
   "source": [
    "joined_data_income.createOrReplaceTempView(\"joined_data_income\")\n",
    "group_query = '''SELECT \\\n",
    "    COMM, \\\n",
    "    SUM(POP_2010) AS Total_POP_2010, \\\n",
    "    SUM(HOUSING10) AS Total_HOUSING10, \\\n",
    "    AVG(`Median Income`) AS Avg_Median_Income \\\n",
    "FROM  \\\n",
    "    joined_data_income \\\n",
    "GROUP BY  \\\n",
    "    COMM;'''\n",
    "grouped_data_income = spark.sql(group_query)\n",
    "grouped_data_income.show()\n",
    "\n",
    "# group_query = '''\n",
    "# SELECT \n",
    "#     COMM, \n",
    "#     SUM(POP_2010) AS Total_POP_2010, \n",
    "#     SUM(HOUSING10) AS Total_HOUSING10, \n",
    "#     AVG(`Median Income`) AS Avg_Median_Income,\n",
    "#     (AVG(`Median Income`) * SUM(HOUSING10)) / SUM(POP_2010) AS Avg_Annual_Income_Per_Person,\n",
    "#     ST_Union_Aggr(geometry) AS aggregated_geometry\n",
    "# FROM  \n",
    "#     joined_data\n",
    "# GROUP BY  \n",
    "#     COMM\n",
    "# '''\n",
    "# grouped_data_income = spark.sql(group_query)\n",
    "# grouped_data_income.show(10)"
   ]
  },
  {
   "cell_type": "code",
   "execution_count": 8,
   "id": "215f81f1-ad78-494d-91da-6c9fa535f140",
   "metadata": {
    "tags": []
   },
   "outputs": [
    {
     "data": {
      "application/vnd.jupyter.widget-view+json": {
       "model_id": "",
       "version_major": 2,
       "version_minor": 0
      },
      "text/plain": [
       "FloatProgress(value=0.0, bar_style='info', description='Progress:', layout=Layout(height='25px', width='50%'),…"
      ]
     },
     "metadata": {},
     "output_type": "display_data"
    },
    {
     "name": "stdout",
     "output_type": "stream",
     "text": [
      "+-----+--------+--------------------+-----------------+--------------------+\n",
      "|  LAT|     LON|                geom|             COMM|            geometry|\n",
      "+-----+--------+--------------------+-----------------+--------------------+\n",
      "|33.96|-118.309|POINT (-118.309 3...|Manchester Square|POLYGON ((-118.31...|\n",
      "|33.96|-118.309|POINT (-118.309 3...|Manchester Square|POLYGON ((-118.31...|\n",
      "|33.96|-118.309|POINT (-118.309 3...|Manchester Square|POLYGON ((-118.31...|\n",
      "|33.96|-118.309|POINT (-118.309 3...|Manchester Square|POLYGON ((-118.31...|\n",
      "|33.96|-118.309|POINT (-118.309 3...|Manchester Square|POLYGON ((-118.31...|\n",
      "|33.96|-118.309|POINT (-118.309 3...|Manchester Square|POLYGON ((-118.31...|\n",
      "|33.96|-118.309|POINT (-118.309 3...|Manchester Square|POLYGON ((-118.31...|\n",
      "|33.96|-118.309|POINT (-118.309 3...|Manchester Square|POLYGON ((-118.31...|\n",
      "|33.96|-118.309|POINT (-118.309 3...|Manchester Square|POLYGON ((-118.31...|\n",
      "|33.96|-118.309|POINT (-118.309 3...|Manchester Square|POLYGON ((-118.31...|\n",
      "|33.96|-118.309|POINT (-118.309 3...|Manchester Square|POLYGON ((-118.31...|\n",
      "|33.96|-118.309|POINT (-118.309 3...|Manchester Square|POLYGON ((-118.31...|\n",
      "|33.96|-118.309|POINT (-118.309 3...|Manchester Square|POLYGON ((-118.31...|\n",
      "|33.96|-118.309|POINT (-118.309 3...|Manchester Square|POLYGON ((-118.31...|\n",
      "|33.96|-118.309|POINT (-118.309 3...|Manchester Square|POLYGON ((-118.31...|\n",
      "|33.96|-118.309|POINT (-118.309 3...|Manchester Square|POLYGON ((-118.31...|\n",
      "|33.96|-118.309|POINT (-118.309 3...|Manchester Square|POLYGON ((-118.31...|\n",
      "|33.96|-118.309|POINT (-118.309 3...|Manchester Square|POLYGON ((-118.31...|\n",
      "|33.96|-118.309|POINT (-118.309 3...|Manchester Square|POLYGON ((-118.31...|\n",
      "|33.96|-118.309|POINT (-118.309 3...|Manchester Square|POLYGON ((-118.31...|\n",
      "+-----+--------+--------------------+-----------------+--------------------+\n",
      "only showing top 20 rows"
     ]
    }
   ],
   "source": [
    "join_query = '''SELECT crime.*, LA_areas.* \\\n",
    "FROM crime \\\n",
    "INNER JOIN LA_areas \\\n",
    "ON ST_Within(crime.geom, LA_areas.geometry);'''\n",
    "\n",
    "joined_data_crime= spark.sql(join_query)\n",
    "joined_data_crime.show()"
   ]
  },
  {
   "cell_type": "code",
   "execution_count": 9,
   "id": "36a813d9-e0db-44b3-b2e2-6674c7974395",
   "metadata": {
    "tags": []
   },
   "outputs": [
    {
     "data": {
      "application/vnd.jupyter.widget-view+json": {
       "model_id": "",
       "version_major": 2,
       "version_minor": 0
      },
      "text/plain": [
       "FloatProgress(value=0.0, bar_style='info', description='Progress:', layout=Layout(height='25px', width='50%'),…"
      ]
     },
     "metadata": {},
     "output_type": "display_data"
    },
    {
     "name": "stdout",
     "output_type": "stream",
     "text": [
      "+--------------------+-----------+\n",
      "|                COMM|crime_count|\n",
      "+--------------------+-----------+\n",
      "|      Gramercy Place|      11148|\n",
      "|     Athens-Westmont|        665|\n",
      "|Figueroa Park Square|       8180|\n",
      "|      Vermont Knolls|      20367|\n",
      "|       Vermont Vista|      50165|\n",
      "|              Venice|      40942|\n",
      "|        Santa Monica|        795|\n",
      "|      Marina del Rey|        702|\n",
      "|    Marina Peninsula|       2656|\n",
      "|         Culver City|       1390|\n",
      "|       Baldwin Hills|      34194|\n",
      "|View Park/Windsor...|       1306|\n",
      "|   Crenshaw District|      13297|\n",
      "|       Beverly Crest|       4527|\n",
      "|         Studio City|      19245|\n",
      "|     Franklin Canyon|          2|\n",
      "|      Valley Village|      15317|\n",
      "|        Sherman Oaks|      64370|\n",
      "|            Longwood|       3074|\n",
      "|    Lafayette Square|       3982|\n",
      "+--------------------+-----------+\n",
      "only showing top 20 rows"
     ]
    }
   ],
   "source": [
    "grouped_data_crime = joined_data_crime.groupBy(\"COMM\").agg(count(\"geom\").alias(\"crime_count\"))\n",
    "grouped_data_crime.show()"
   ]
  },
  {
   "cell_type": "code",
   "execution_count": 14,
   "id": "6e761e9d-3a5d-4c05-a31d-715dd5b2cb14",
   "metadata": {
    "tags": []
   },
   "outputs": [
    {
     "data": {
      "application/vnd.jupyter.widget-view+json": {
       "model_id": "",
       "version_major": 2,
       "version_minor": 0
      },
      "text/plain": [
       "FloatProgress(value=0.0, bar_style='info', description='Progress:', layout=Layout(height='25px', width='50%'),…"
      ]
     },
     "metadata": {},
     "output_type": "display_data"
    },
    {
     "name": "stdout",
     "output_type": "stream",
     "text": [
      "+---------------+------------------+--------------------+\n",
      "|           COMM| Avg_Median_Income|   crimes_per_person|\n",
      "+---------------+------------------+--------------------+\n",
      "|       Van Nuys|43827.914666666664|  0.9170415838361292|\n",
      "|    North Hills| 56409.98540145985|   0.655059866962306|\n",
      "|     Northridge|60909.710144927536|  0.8133372019923594|\n",
      "|         Encino|  88326.6334231806|   0.703747432052705|\n",
      "|North Hollywood| 46568.82010582011|  0.8013964204433706|\n",
      "|    Canoga Park| 52561.75073313783|  0.8960521181480413|\n",
      "|         Reseda|  51637.0938697318|  0.6108411423161002|\n",
      "|  Panorama City| 37423.00787401575|  0.6498237536867851|\n",
      "|    Lake Balboa| 49953.90217391304|  0.6017674035141959|\n",
      "|       Winnetka| 62067.63815789474|  0.6688561626642122|\n",
      "|   Reseda Ranch|           51743.6|  0.7724644128113879|\n",
      "|      Westhills|          100075.0| 0.01278772378516624|\n",
      "|     West Hills| 80861.76146788991|  0.4833172462369238|\n",
      "|        Burbank| 67848.98430899215|0.009763886200890266|\n",
      "|        Tarzana|           68257.6|  0.7385797062390513|\n",
      "|     Sun Valley|52475.485537190085|  0.6616657237060304|\n",
      "|    Valley Glen| 48792.15286624204|  0.5546786523216308|\n",
      "| Woodland Hills| 86340.41317365269|  0.7102428855689965|\n",
      "|       Mid-city|           46571.0|  0.8071692586651789|\n",
      "|       Glendale|63853.143798024146|7.093715281218867E-4|\n",
      "+---------------+------------------+--------------------+\n",
      "only showing top 20 rows"
     ]
    }
   ],
   "source": [
    "grouped_data_crime.createOrReplaceTempView(\"grouped_data_crime\")\n",
    "grouped_data_income.createOrReplaceTempView(\"grouped_data_income\")\n",
    "\n",
    "# Group by COMM and count the geom column\n",
    "final_join = '''\n",
    "SELECT  \\\n",
    "    gd_income.COMM,  \\\n",
    "    gd_income.Avg_Median_Income,  \\\n",
    "    (gd_crime.crime_count / gd_income.Total_POP_2010) AS crimes_per_person \\\n",
    "FROM  \\\n",
    "    grouped_data_income gd_income \\\n",
    "JOIN  \\\n",
    "    grouped_data_crime gd_crime \\\n",
    "ON  \\\n",
    "    gd_income.COMM = gd_crime.COMM;\n",
    "'''\n",
    "final_data= spark.sql(final_join)\n",
    "final_data.show()\n",
    "\n"
   ]
  }
 ],
 "metadata": {
  "kernelspec": {
   "display_name": "Sparkmagic (PySpark)",
   "language": "python",
   "name": "pysparkkernel"
  },
  "language_info": {
   "codemirror_mode": {
    "name": "python",
    "version": 3
   },
   "file_extension": ".py",
   "mimetype": "text/x-python",
   "name": "pyspark",
   "pygments_lexer": "python3"
  }
 },
 "nbformat": 4,
 "nbformat_minor": 5
}
